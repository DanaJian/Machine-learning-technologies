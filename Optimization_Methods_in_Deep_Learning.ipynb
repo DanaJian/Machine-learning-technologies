{
  "nbformat": 4,
  "nbformat_minor": 0,
  "metadata": {
    "colab": {
      "provenance": [],
      "authorship_tag": "ABX9TyOMc94n4F/8yWmxZOtf8PPa",
      "include_colab_link": true
    },
    "kernelspec": {
      "name": "python3",
      "display_name": "Python 3"
    },
    "language_info": {
      "name": "python"
    }
  },
  "cells": [
    {
      "cell_type": "markdown",
      "metadata": {
        "id": "view-in-github",
        "colab_type": "text"
      },
      "source": [
        "<a href=\"https://colab.research.google.com/github/DanaJian/Machine-learning-technologies/blob/main/Optimization_Methods_in_Deep_Learning.ipynb\" target=\"_parent\"><img src=\"https://colab.research.google.com/assets/colab-badge.svg\" alt=\"Open In Colab\"/></a>"
      ]
    },
    {
      "cell_type": "code",
      "execution_count": 283,
      "metadata": {
        "id": "b69EZaslOeF5"
      },
      "outputs": [],
      "source": [
        "from google.colab import drive\n",
        "import numpy as np\n",
        "import pandas as pd\n",
        "from typing import Tuple, List\n",
        "\n",
        "from sklearn.model_selection import train_test_split\n",
        "from sklearn.metrics import accuracy_score\n",
        "\n",
        "import matplotlib.pyplot as plt\n",
        "\n",
        "import torch\n",
        "import torch.nn as nn\n",
        "from torch.optim import SGD, RMSprop, Adam"
      ]
    },
    {
      "cell_type": "markdown",
      "source": [
        "1. ЗАГРУЗКА ДАТАСЕТА И ПРЕДОБРАБОТКА ДАННЫХ"
      ],
      "metadata": {
        "id": "iV1xNfJ9RHjZ"
      }
    },
    {
      "cell_type": "code",
      "source": [
        "drive.mount('/content/drive')\n",
        "path = ('/content/drive/My Drive/bioresponse.csv')\n",
        "data = pd.read_csv(path)"
      ],
      "metadata": {
        "colab": {
          "base_uri": "https://localhost:8080/"
        },
        "id": "ya3YRYPXRQBb",
        "outputId": "9a90473b-b2d7-4fe9-fdb6-d37f017e9112"
      },
      "execution_count": 284,
      "outputs": [
        {
          "output_type": "stream",
          "name": "stdout",
          "text": [
            "Drive already mounted at /content/drive; to attempt to forcibly remount, call drive.mount(\"/content/drive\", force_remount=True).\n"
          ]
        }
      ]
    },
    {
      "cell_type": "code",
      "source": [
        "data"
      ],
      "metadata": {
        "colab": {
          "base_uri": "https://localhost:8080/",
          "height": 488
        },
        "id": "5bnZBil3R9YF",
        "outputId": "0e16fd44-9c0f-40dc-bfd9-0264033bc994"
      },
      "execution_count": 285,
      "outputs": [
        {
          "output_type": "execute_result",
          "data": {
            "text/plain": [
              "      Activity        D1        D2    D3   D4        D5        D6        D7  \\\n",
              "0            1  0.000000  0.497009  0.10  0.0  0.132956  0.678031  0.273166   \n",
              "1            1  0.366667  0.606291  0.05  0.0  0.111209  0.803455  0.106105   \n",
              "2            1  0.033300  0.480124  0.00  0.0  0.209791  0.610350  0.356453   \n",
              "3            1  0.000000  0.538825  0.00  0.5  0.196344  0.724230  0.235606   \n",
              "4            0  0.100000  0.517794  0.00  0.0  0.494734  0.781422  0.154361   \n",
              "...        ...       ...       ...   ...  ...       ...       ...       ...   \n",
              "3746         1  0.033300  0.506409  0.10  0.0  0.209887  0.633426  0.297659   \n",
              "3747         1  0.133333  0.651023  0.15  0.0  0.151154  0.766505  0.170876   \n",
              "3748         0  0.200000  0.520564  0.00  0.0  0.179949  0.768785  0.177341   \n",
              "3749         1  0.100000  0.765646  0.00  0.0  0.536954  0.634936  0.342713   \n",
              "3750         0  0.133333  0.533952  0.00  0.0  0.347966  0.757971  0.230667   \n",
              "\n",
              "            D8        D9  ...  D1767  D1768  D1769  D1770  D1771  D1772  \\\n",
              "0     0.585445  0.743663  ...      0      0      0      0      0      0   \n",
              "1     0.411754  0.836582  ...      1      1      1      1      0      1   \n",
              "2     0.517720  0.679051  ...      0      0      0      0      0      0   \n",
              "3     0.288764  0.805110  ...      0      0      0      0      0      0   \n",
              "4     0.303809  0.812646  ...      0      0      0      0      0      0   \n",
              "...        ...       ...  ...    ...    ...    ...    ...    ...    ...   \n",
              "3746  0.376124  0.727093  ...      0      0      0      0      0      0   \n",
              "3747  0.404546  0.787935  ...      0      0      1      0      1      0   \n",
              "3748  0.471179  0.872241  ...      0      0      0      0      0      0   \n",
              "3749  0.447162  0.672689  ...      0      0      0      0      0      0   \n",
              "3750  0.272652  0.854116  ...      0      0      0      0      0      0   \n",
              "\n",
              "      D1773  D1774  D1775  D1776  \n",
              "0         0      0      0      0  \n",
              "1         0      0      1      0  \n",
              "2         0      0      0      0  \n",
              "3         0      0      0      0  \n",
              "4         0      0      0      0  \n",
              "...     ...    ...    ...    ...  \n",
              "3746      0      0      0      0  \n",
              "3747      1      0      0      0  \n",
              "3748      0      0      0      0  \n",
              "3749      0      0      0      0  \n",
              "3750      0      0      0      0  \n",
              "\n",
              "[3751 rows x 1777 columns]"
            ],
            "text/html": [
              "\n",
              "  <div id=\"df-7ced7329-5e41-4a66-8aa8-a13d74651cd0\">\n",
              "    <div class=\"colab-df-container\">\n",
              "      <div>\n",
              "<style scoped>\n",
              "    .dataframe tbody tr th:only-of-type {\n",
              "        vertical-align: middle;\n",
              "    }\n",
              "\n",
              "    .dataframe tbody tr th {\n",
              "        vertical-align: top;\n",
              "    }\n",
              "\n",
              "    .dataframe thead th {\n",
              "        text-align: right;\n",
              "    }\n",
              "</style>\n",
              "<table border=\"1\" class=\"dataframe\">\n",
              "  <thead>\n",
              "    <tr style=\"text-align: right;\">\n",
              "      <th></th>\n",
              "      <th>Activity</th>\n",
              "      <th>D1</th>\n",
              "      <th>D2</th>\n",
              "      <th>D3</th>\n",
              "      <th>D4</th>\n",
              "      <th>D5</th>\n",
              "      <th>D6</th>\n",
              "      <th>D7</th>\n",
              "      <th>D8</th>\n",
              "      <th>D9</th>\n",
              "      <th>...</th>\n",
              "      <th>D1767</th>\n",
              "      <th>D1768</th>\n",
              "      <th>D1769</th>\n",
              "      <th>D1770</th>\n",
              "      <th>D1771</th>\n",
              "      <th>D1772</th>\n",
              "      <th>D1773</th>\n",
              "      <th>D1774</th>\n",
              "      <th>D1775</th>\n",
              "      <th>D1776</th>\n",
              "    </tr>\n",
              "  </thead>\n",
              "  <tbody>\n",
              "    <tr>\n",
              "      <th>0</th>\n",
              "      <td>1</td>\n",
              "      <td>0.000000</td>\n",
              "      <td>0.497009</td>\n",
              "      <td>0.10</td>\n",
              "      <td>0.0</td>\n",
              "      <td>0.132956</td>\n",
              "      <td>0.678031</td>\n",
              "      <td>0.273166</td>\n",
              "      <td>0.585445</td>\n",
              "      <td>0.743663</td>\n",
              "      <td>...</td>\n",
              "      <td>0</td>\n",
              "      <td>0</td>\n",
              "      <td>0</td>\n",
              "      <td>0</td>\n",
              "      <td>0</td>\n",
              "      <td>0</td>\n",
              "      <td>0</td>\n",
              "      <td>0</td>\n",
              "      <td>0</td>\n",
              "      <td>0</td>\n",
              "    </tr>\n",
              "    <tr>\n",
              "      <th>1</th>\n",
              "      <td>1</td>\n",
              "      <td>0.366667</td>\n",
              "      <td>0.606291</td>\n",
              "      <td>0.05</td>\n",
              "      <td>0.0</td>\n",
              "      <td>0.111209</td>\n",
              "      <td>0.803455</td>\n",
              "      <td>0.106105</td>\n",
              "      <td>0.411754</td>\n",
              "      <td>0.836582</td>\n",
              "      <td>...</td>\n",
              "      <td>1</td>\n",
              "      <td>1</td>\n",
              "      <td>1</td>\n",
              "      <td>1</td>\n",
              "      <td>0</td>\n",
              "      <td>1</td>\n",
              "      <td>0</td>\n",
              "      <td>0</td>\n",
              "      <td>1</td>\n",
              "      <td>0</td>\n",
              "    </tr>\n",
              "    <tr>\n",
              "      <th>2</th>\n",
              "      <td>1</td>\n",
              "      <td>0.033300</td>\n",
              "      <td>0.480124</td>\n",
              "      <td>0.00</td>\n",
              "      <td>0.0</td>\n",
              "      <td>0.209791</td>\n",
              "      <td>0.610350</td>\n",
              "      <td>0.356453</td>\n",
              "      <td>0.517720</td>\n",
              "      <td>0.679051</td>\n",
              "      <td>...</td>\n",
              "      <td>0</td>\n",
              "      <td>0</td>\n",
              "      <td>0</td>\n",
              "      <td>0</td>\n",
              "      <td>0</td>\n",
              "      <td>0</td>\n",
              "      <td>0</td>\n",
              "      <td>0</td>\n",
              "      <td>0</td>\n",
              "      <td>0</td>\n",
              "    </tr>\n",
              "    <tr>\n",
              "      <th>3</th>\n",
              "      <td>1</td>\n",
              "      <td>0.000000</td>\n",
              "      <td>0.538825</td>\n",
              "      <td>0.00</td>\n",
              "      <td>0.5</td>\n",
              "      <td>0.196344</td>\n",
              "      <td>0.724230</td>\n",
              "      <td>0.235606</td>\n",
              "      <td>0.288764</td>\n",
              "      <td>0.805110</td>\n",
              "      <td>...</td>\n",
              "      <td>0</td>\n",
              "      <td>0</td>\n",
              "      <td>0</td>\n",
              "      <td>0</td>\n",
              "      <td>0</td>\n",
              "      <td>0</td>\n",
              "      <td>0</td>\n",
              "      <td>0</td>\n",
              "      <td>0</td>\n",
              "      <td>0</td>\n",
              "    </tr>\n",
              "    <tr>\n",
              "      <th>4</th>\n",
              "      <td>0</td>\n",
              "      <td>0.100000</td>\n",
              "      <td>0.517794</td>\n",
              "      <td>0.00</td>\n",
              "      <td>0.0</td>\n",
              "      <td>0.494734</td>\n",
              "      <td>0.781422</td>\n",
              "      <td>0.154361</td>\n",
              "      <td>0.303809</td>\n",
              "      <td>0.812646</td>\n",
              "      <td>...</td>\n",
              "      <td>0</td>\n",
              "      <td>0</td>\n",
              "      <td>0</td>\n",
              "      <td>0</td>\n",
              "      <td>0</td>\n",
              "      <td>0</td>\n",
              "      <td>0</td>\n",
              "      <td>0</td>\n",
              "      <td>0</td>\n",
              "      <td>0</td>\n",
              "    </tr>\n",
              "    <tr>\n",
              "      <th>...</th>\n",
              "      <td>...</td>\n",
              "      <td>...</td>\n",
              "      <td>...</td>\n",
              "      <td>...</td>\n",
              "      <td>...</td>\n",
              "      <td>...</td>\n",
              "      <td>...</td>\n",
              "      <td>...</td>\n",
              "      <td>...</td>\n",
              "      <td>...</td>\n",
              "      <td>...</td>\n",
              "      <td>...</td>\n",
              "      <td>...</td>\n",
              "      <td>...</td>\n",
              "      <td>...</td>\n",
              "      <td>...</td>\n",
              "      <td>...</td>\n",
              "      <td>...</td>\n",
              "      <td>...</td>\n",
              "      <td>...</td>\n",
              "      <td>...</td>\n",
              "    </tr>\n",
              "    <tr>\n",
              "      <th>3746</th>\n",
              "      <td>1</td>\n",
              "      <td>0.033300</td>\n",
              "      <td>0.506409</td>\n",
              "      <td>0.10</td>\n",
              "      <td>0.0</td>\n",
              "      <td>0.209887</td>\n",
              "      <td>0.633426</td>\n",
              "      <td>0.297659</td>\n",
              "      <td>0.376124</td>\n",
              "      <td>0.727093</td>\n",
              "      <td>...</td>\n",
              "      <td>0</td>\n",
              "      <td>0</td>\n",
              "      <td>0</td>\n",
              "      <td>0</td>\n",
              "      <td>0</td>\n",
              "      <td>0</td>\n",
              "      <td>0</td>\n",
              "      <td>0</td>\n",
              "      <td>0</td>\n",
              "      <td>0</td>\n",
              "    </tr>\n",
              "    <tr>\n",
              "      <th>3747</th>\n",
              "      <td>1</td>\n",
              "      <td>0.133333</td>\n",
              "      <td>0.651023</td>\n",
              "      <td>0.15</td>\n",
              "      <td>0.0</td>\n",
              "      <td>0.151154</td>\n",
              "      <td>0.766505</td>\n",
              "      <td>0.170876</td>\n",
              "      <td>0.404546</td>\n",
              "      <td>0.787935</td>\n",
              "      <td>...</td>\n",
              "      <td>0</td>\n",
              "      <td>0</td>\n",
              "      <td>1</td>\n",
              "      <td>0</td>\n",
              "      <td>1</td>\n",
              "      <td>0</td>\n",
              "      <td>1</td>\n",
              "      <td>0</td>\n",
              "      <td>0</td>\n",
              "      <td>0</td>\n",
              "    </tr>\n",
              "    <tr>\n",
              "      <th>3748</th>\n",
              "      <td>0</td>\n",
              "      <td>0.200000</td>\n",
              "      <td>0.520564</td>\n",
              "      <td>0.00</td>\n",
              "      <td>0.0</td>\n",
              "      <td>0.179949</td>\n",
              "      <td>0.768785</td>\n",
              "      <td>0.177341</td>\n",
              "      <td>0.471179</td>\n",
              "      <td>0.872241</td>\n",
              "      <td>...</td>\n",
              "      <td>0</td>\n",
              "      <td>0</td>\n",
              "      <td>0</td>\n",
              "      <td>0</td>\n",
              "      <td>0</td>\n",
              "      <td>0</td>\n",
              "      <td>0</td>\n",
              "      <td>0</td>\n",
              "      <td>0</td>\n",
              "      <td>0</td>\n",
              "    </tr>\n",
              "    <tr>\n",
              "      <th>3749</th>\n",
              "      <td>1</td>\n",
              "      <td>0.100000</td>\n",
              "      <td>0.765646</td>\n",
              "      <td>0.00</td>\n",
              "      <td>0.0</td>\n",
              "      <td>0.536954</td>\n",
              "      <td>0.634936</td>\n",
              "      <td>0.342713</td>\n",
              "      <td>0.447162</td>\n",
              "      <td>0.672689</td>\n",
              "      <td>...</td>\n",
              "      <td>0</td>\n",
              "      <td>0</td>\n",
              "      <td>0</td>\n",
              "      <td>0</td>\n",
              "      <td>0</td>\n",
              "      <td>0</td>\n",
              "      <td>0</td>\n",
              "      <td>0</td>\n",
              "      <td>0</td>\n",
              "      <td>0</td>\n",
              "    </tr>\n",
              "    <tr>\n",
              "      <th>3750</th>\n",
              "      <td>0</td>\n",
              "      <td>0.133333</td>\n",
              "      <td>0.533952</td>\n",
              "      <td>0.00</td>\n",
              "      <td>0.0</td>\n",
              "      <td>0.347966</td>\n",
              "      <td>0.757971</td>\n",
              "      <td>0.230667</td>\n",
              "      <td>0.272652</td>\n",
              "      <td>0.854116</td>\n",
              "      <td>...</td>\n",
              "      <td>0</td>\n",
              "      <td>0</td>\n",
              "      <td>0</td>\n",
              "      <td>0</td>\n",
              "      <td>0</td>\n",
              "      <td>0</td>\n",
              "      <td>0</td>\n",
              "      <td>0</td>\n",
              "      <td>0</td>\n",
              "      <td>0</td>\n",
              "    </tr>\n",
              "  </tbody>\n",
              "</table>\n",
              "<p>3751 rows × 1777 columns</p>\n",
              "</div>\n",
              "      <button class=\"colab-df-convert\" onclick=\"convertToInteractive('df-7ced7329-5e41-4a66-8aa8-a13d74651cd0')\"\n",
              "              title=\"Convert this dataframe to an interactive table.\"\n",
              "              style=\"display:none;\">\n",
              "        \n",
              "  <svg xmlns=\"http://www.w3.org/2000/svg\" height=\"24px\"viewBox=\"0 0 24 24\"\n",
              "       width=\"24px\">\n",
              "    <path d=\"M0 0h24v24H0V0z\" fill=\"none\"/>\n",
              "    <path d=\"M18.56 5.44l.94 2.06.94-2.06 2.06-.94-2.06-.94-.94-2.06-.94 2.06-2.06.94zm-11 1L8.5 8.5l.94-2.06 2.06-.94-2.06-.94L8.5 2.5l-.94 2.06-2.06.94zm10 10l.94 2.06.94-2.06 2.06-.94-2.06-.94-.94-2.06-.94 2.06-2.06.94z\"/><path d=\"M17.41 7.96l-1.37-1.37c-.4-.4-.92-.59-1.43-.59-.52 0-1.04.2-1.43.59L10.3 9.45l-7.72 7.72c-.78.78-.78 2.05 0 2.83L4 21.41c.39.39.9.59 1.41.59.51 0 1.02-.2 1.41-.59l7.78-7.78 2.81-2.81c.8-.78.8-2.07 0-2.86zM5.41 20L4 18.59l7.72-7.72 1.47 1.35L5.41 20z\"/>\n",
              "  </svg>\n",
              "      </button>\n",
              "      \n",
              "  <style>\n",
              "    .colab-df-container {\n",
              "      display:flex;\n",
              "      flex-wrap:wrap;\n",
              "      gap: 12px;\n",
              "    }\n",
              "\n",
              "    .colab-df-convert {\n",
              "      background-color: #E8F0FE;\n",
              "      border: none;\n",
              "      border-radius: 50%;\n",
              "      cursor: pointer;\n",
              "      display: none;\n",
              "      fill: #1967D2;\n",
              "      height: 32px;\n",
              "      padding: 0 0 0 0;\n",
              "      width: 32px;\n",
              "    }\n",
              "\n",
              "    .colab-df-convert:hover {\n",
              "      background-color: #E2EBFA;\n",
              "      box-shadow: 0px 1px 2px rgba(60, 64, 67, 0.3), 0px 1px 3px 1px rgba(60, 64, 67, 0.15);\n",
              "      fill: #174EA6;\n",
              "    }\n",
              "\n",
              "    [theme=dark] .colab-df-convert {\n",
              "      background-color: #3B4455;\n",
              "      fill: #D2E3FC;\n",
              "    }\n",
              "\n",
              "    [theme=dark] .colab-df-convert:hover {\n",
              "      background-color: #434B5C;\n",
              "      box-shadow: 0px 1px 3px 1px rgba(0, 0, 0, 0.15);\n",
              "      filter: drop-shadow(0px 1px 2px rgba(0, 0, 0, 0.3));\n",
              "      fill: #FFFFFF;\n",
              "    }\n",
              "  </style>\n",
              "\n",
              "      <script>\n",
              "        const buttonEl =\n",
              "          document.querySelector('#df-7ced7329-5e41-4a66-8aa8-a13d74651cd0 button.colab-df-convert');\n",
              "        buttonEl.style.display =\n",
              "          google.colab.kernel.accessAllowed ? 'block' : 'none';\n",
              "\n",
              "        async function convertToInteractive(key) {\n",
              "          const element = document.querySelector('#df-7ced7329-5e41-4a66-8aa8-a13d74651cd0');\n",
              "          const dataTable =\n",
              "            await google.colab.kernel.invokeFunction('convertToInteractive',\n",
              "                                                     [key], {});\n",
              "          if (!dataTable) return;\n",
              "\n",
              "          const docLinkHtml = 'Like what you see? Visit the ' +\n",
              "            '<a target=\"_blank\" href=https://colab.research.google.com/notebooks/data_table.ipynb>data table notebook</a>'\n",
              "            + ' to learn more about interactive tables.';\n",
              "          element.innerHTML = '';\n",
              "          dataTable['output_type'] = 'display_data';\n",
              "          await google.colab.output.renderOutput(dataTable, element);\n",
              "          const docLink = document.createElement('div');\n",
              "          docLink.innerHTML = docLinkHtml;\n",
              "          element.appendChild(docLink);\n",
              "        }\n",
              "      </script>\n",
              "    </div>\n",
              "  </div>\n",
              "  "
            ]
          },
          "metadata": {},
          "execution_count": 285
        }
      ]
    },
    {
      "cell_type": "code",
      "source": [
        "X, y = data.iloc[:, 1:].values, data.iloc[:, 0].values\n",
        "X_train, X_test, y_train, y_test = train_test_split(X, y, test_size=0.2)\n",
        "\n",
        "X_train = torch.tensor(X_train).to(torch.float32)\n",
        "X_test = torch.tensor(X_test).to(torch.float32)\n",
        "y_train = torch.tensor(y_train).to(torch.float32)\n",
        "y_test = torch.tensor(y_test).to(torch.float32)"
      ],
      "metadata": {
        "id": "MAs_2hSmSIoM"
      },
      "execution_count": 286,
      "outputs": []
    },
    {
      "cell_type": "markdown",
      "source": [
        "2. РЕАЛИЗАЦИЯ ФУНКЦИЙ"
      ],
      "metadata": {
        "id": "ompwop76YsZB"
      }
    },
    {
      "cell_type": "code",
      "source": [
        "# Инициализация генеральных переменных\n",
        "learning_rate = 0.02\n",
        "momentum = 0.8\n",
        "epochs = 2000"
      ],
      "metadata": {
        "id": "DhVNUGbKScLG"
      },
      "execution_count": 287,
      "outputs": []
    },
    {
      "cell_type": "code",
      "source": [
        "# Функция модели линейной регресии\n",
        "class LinearRegressionNet(nn.Module):\n",
        "    def __init__(self, in_features):\n",
        "        super().__init__()\n",
        "        self.model = nn.Sequential(\n",
        "            nn.Linear(in_features, 32),\n",
        "            nn.Linear(32, 16),\n",
        "            nn.Linear(16, 1)\n",
        "        )\n",
        "    \n",
        "    def forward(self, x) -> torch.Tensor:\n",
        "        return self.model(x)"
      ],
      "metadata": {
        "id": "cYr5v9d730Ol"
      },
      "execution_count": 288,
      "outputs": []
    },
    {
      "cell_type": "code",
      "source": [
        "# Функция обучения модели\n",
        "def train(model: torch.nn.Module, \n",
        "          optimizer: torch.optim.Optimizer, \n",
        "          loss_fn: torch.nn.modules.loss._Loss, \n",
        "          X: torch.Tensor, \n",
        "          y: torch.Tensor, \n",
        "          silent: bool = False) -> Tuple[torch.nn.Module, List[float]]:\n",
        "  loss_data = []\n",
        "\n",
        "  for epoch in range(epochs):\n",
        "    optimizer.zero_grad()\n",
        "    pred = model(X)\n",
        "    loss = loss_fn(torch.squeeze(pred), y)\n",
        "    loss_data.append(loss.detach().numpy())\n",
        "    if epoch and epoch % (epochs/10) == 0 and not silent:\n",
        "      print(f'Эпоха: {epoch}, Ошибка: {loss}')\n",
        "    loss.backward()\n",
        "    optimizer.step()\n",
        "\n",
        "  return model, loss_data"
      ],
      "metadata": {
        "id": "lPKL-_7q6sXV"
      },
      "execution_count": 289,
      "outputs": []
    },
    {
      "cell_type": "markdown",
      "source": [
        "3. ОБУЧЕНИЕ МОДЕЛЕЙ"
      ],
      "metadata": {
        "id": "PyVIfwNpB82p"
      }
    },
    {
      "cell_type": "code",
      "source": [
        "model = LinearRegressionNet(X_train.shape[1])\n",
        "optimizer = SGD(model.parameters(), lr=learning_rate)\n",
        "loss_fn = nn.MSELoss()\n",
        "\n",
        "sgd_model, sgd_loss_data = train(model, optimizer, loss_fn, X_train, y_train)"
      ],
      "metadata": {
        "colab": {
          "base_uri": "https://localhost:8080/"
        },
        "id": "xLqt5YXq7KVR",
        "outputId": "abd57635-3d5e-4eb6-ab8b-0f496863e290"
      },
      "execution_count": 290,
      "outputs": [
        {
          "output_type": "stream",
          "name": "stdout",
          "text": [
            "Эпоха: 200, Ошибка: 0.16320544481277466\n",
            "Эпоха: 400, Ошибка: 0.1446293294429779\n",
            "Эпоха: 600, Ошибка: 0.13677255809307098\n",
            "Эпоха: 800, Ошибка: 0.1315533071756363\n",
            "Эпоха: 1000, Ошибка: 0.13444994390010834\n",
            "Эпоха: 1200, Ошибка: 0.12704437971115112\n",
            "Эпоха: 1400, Ошибка: 0.12462178617715836\n",
            "Эпоха: 1600, Ошибка: 0.12332863360643387\n",
            "Эпоха: 1800, Ошибка: 0.12313364446163177\n"
          ]
        }
      ]
    },
    {
      "cell_type": "code",
      "source": [
        "model = LinearRegressionNet(X_train.shape[1])\n",
        "optimizer = SGD(model.parameters(), lr=learning_rate, momentum=momentum)\n",
        "loss_fn = nn.MSELoss()\n",
        "\n",
        "momentum_model, momentum_loss_data = train(model, optimizer, loss_fn, X_train, y_train)"
      ],
      "metadata": {
        "colab": {
          "base_uri": "https://localhost:8080/"
        },
        "id": "cTgXhFdyB7Lq",
        "outputId": "04ecc5c2-d1ec-4899-9592-a3783ce9dae0"
      },
      "execution_count": 291,
      "outputs": [
        {
          "output_type": "stream",
          "name": "stdout",
          "text": [
            "Эпоха: 200, Ошибка: 0.13232135772705078\n",
            "Эпоха: 400, Ошибка: 0.11808765679597855\n",
            "Эпоха: 600, Ошибка: 0.11973685771226883\n",
            "Эпоха: 800, Ошибка: 0.11123205721378326\n",
            "Эпоха: 1000, Ошибка: 0.12636657059192657\n",
            "Эпоха: 1200, Ошибка: 0.10656657069921494\n",
            "Эпоха: 1400, Ошибка: 0.1149914339184761\n",
            "Эпоха: 1600, Ошибка: 0.10313321650028229\n",
            "Эпоха: 1800, Ошибка: 0.10432592779397964\n"
          ]
        }
      ]
    },
    {
      "cell_type": "code",
      "source": [
        "model = LinearRegressionNet(X_train.shape[1])\n",
        "optimizer = RMSprop(model.parameters(), lr=learning_rate)\n",
        "loss_fn = nn.MSELoss()\n",
        "\n",
        "rmsprop_model, rmsprop_loss_data = train(model, optimizer, loss_fn, X_train, y_train)"
      ],
      "metadata": {
        "colab": {
          "base_uri": "https://localhost:8080/"
        },
        "id": "HW9l36pxDic_",
        "outputId": "49a11567-5429-4774-cb56-af4ff3c8eca2"
      },
      "execution_count": 292,
      "outputs": [
        {
          "output_type": "stream",
          "name": "stdout",
          "text": [
            "Эпоха: 200, Ошибка: 0.34048426151275635\n",
            "Эпоха: 400, Ошибка: 6.03889799118042\n",
            "Эпоха: 600, Ошибка: 0.15435931086540222\n",
            "Эпоха: 800, Ошибка: 0.15032972395420074\n",
            "Эпоха: 1000, Ошибка: 0.14877624809741974\n",
            "Эпоха: 1200, Ошибка: 0.13416962325572968\n",
            "Эпоха: 1400, Ошибка: 0.12727530300617218\n",
            "Эпоха: 1600, Ошибка: 0.5539245009422302\n",
            "Эпоха: 1800, Ошибка: 0.278531938791275\n"
          ]
        }
      ]
    },
    {
      "cell_type": "code",
      "source": [
        "model = LinearRegressionNet(X_train.shape[1])\n",
        "optimizer = Adam(model.parameters(), lr=learning_rate)\n",
        "loss_fn = nn.MSELoss()\n",
        "\n",
        "adam_model, adam_loss_data = train(model, optimizer, loss_fn, X_train, y_train)"
      ],
      "metadata": {
        "colab": {
          "base_uri": "https://localhost:8080/"
        },
        "id": "J6kMjamcEFAl",
        "outputId": "ca0fdb73-4e40-4182-87f3-78633fadf7c5"
      },
      "execution_count": 293,
      "outputs": [
        {
          "output_type": "stream",
          "name": "stdout",
          "text": [
            "Эпоха: 200, Ошибка: 0.13104531168937683\n",
            "Эпоха: 400, Ошибка: 0.10084287822246552\n",
            "Эпоха: 600, Ошибка: 0.08795005083084106\n",
            "Эпоха: 800, Ошибка: 0.08774645626544952\n",
            "Эпоха: 1000, Ошибка: 0.0827188789844513\n",
            "Эпоха: 1200, Ошибка: 0.08398471772670746\n",
            "Эпоха: 1400, Ошибка: 0.08025389909744263\n",
            "Эпоха: 1600, Ошибка: 0.08385276049375534\n",
            "Эпоха: 1800, Ошибка: 0.07884278893470764\n"
          ]
        }
      ]
    },
    {
      "cell_type": "markdown",
      "source": [
        "4. ВИЗУАЛИЗАЦИЯ ПРОЦЕССА ОБУЧЕНИЯ МОДЕЛЕЙ"
      ],
      "metadata": {
        "id": "F-8zaU1XEdO3"
      }
    },
    {
      "cell_type": "code",
      "source": [
        "import matplotlib.pyplot as plt\n",
        "\n",
        "plt.plot(sgd_loss_data, label='SGD')\n",
        "plt.plot(momentum_loss_data, label='Momentum')\n",
        "plt.plot(rmsprop_loss_data, label='RMSprop')\n",
        "plt.plot(adam_loss_data, label='Adam')\n",
        "plt.legend()\n",
        "plt.xlabel('Epoch')\n",
        "plt.ylabel('Loss')\n",
        "plt.title('Training Loss')\n",
        "plt.yscale('log')\n",
        "plt.show()"
      ],
      "metadata": {
        "colab": {
          "base_uri": "https://localhost:8080/",
          "height": 472
        },
        "id": "5jprocdkEcsw",
        "outputId": "0fe4c483-50f7-4163-bb0f-98d49bef583b"
      },
      "execution_count": 294,
      "outputs": [
        {
          "output_type": "display_data",
          "data": {
            "text/plain": [
              "<Figure size 640x480 with 1 Axes>"
            ],
            "image/png": "[encoded data removed]"
          },
          "metadata": {}
        }
      ]
    },
    {
      "cell_type": "markdown",
      "source": [
        "5. СРАВНИТЕЛЬНЫЙ АНАЛИЗ ТОЧНОСТИ РЕШЕНИЯ ОПТИМИЗАЦИОННОЙ ЗАДАЧИ"
      ],
      "metadata": {
        "id": "8Aj6wYe6I2kH"
      }
    },
    {
      "cell_type": "code",
      "source": [
        "metrics = []\n",
        "y_test = y_test.detach().numpy()\n",
        "\n",
        "for model in [sgd_model,\n",
        "              momentum_model,\n",
        "              rmsprop_model,\n",
        "              adam_model]:\n",
        "\n",
        "  predict = np.round(model(X_test).detach().numpy())\n",
        "  accuracy  = accuracy_score(y_test, predict)\n",
        "  metrics.append(accuracy)"
      ],
      "metadata": {
        "id": "SzPsdxVAJCng"
      },
      "execution_count": 295,
      "outputs": []
    },
    {
      "cell_type": "code",
      "source": [
        "data = {\n",
        "    'SGD': metrics[0],\n",
        "    'Momentum': metrics[1],\n",
        "    'RMSProp': metrics[2],\n",
        "    'Adam': metrics[3]\n",
        "}\n",
        "\n",
        "data_df = pd.DataFrame(data, index=['Accuracy'])\n",
        "data_df"
      ],
      "metadata": {
        "colab": {
          "base_uri": "https://localhost:8080/",
          "height": 81
        },
        "id": "QcFpHXXoKaiV",
        "outputId": "ced8f7e5-9d80-4745-e3b8-791d22e64297"
      },
      "execution_count": 296,
      "outputs": [
        {
          "output_type": "execute_result",
          "data": {
            "text/plain": [
              "               SGD  Momentum   RMSProp      Adam\n",
              "Accuracy  0.761651   0.75233  0.757656  0.737683"
            ],
            "text/html": [
              "\n",
              "  <div id=\"df-6075f2a0-b688-4351-aea0-f226d1de005e\">\n",
              "    <div class=\"colab-df-container\">\n",
              "      <div>\n",
              "<style scoped>\n",
              "    .dataframe tbody tr th:only-of-type {\n",
              "        vertical-align: middle;\n",
              "    }\n",
              "\n",
              "    .dataframe tbody tr th {\n",
              "        vertical-align: top;\n",
              "    }\n",
              "\n",
              "    .dataframe thead th {\n",
              "        text-align: right;\n",
              "    }\n",
              "</style>\n",
              "<table border=\"1\" class=\"dataframe\">\n",
              "  <thead>\n",
              "    <tr style=\"text-align: right;\">\n",
              "      <th></th>\n",
              "      <th>SGD</th>\n",
              "      <th>Momentum</th>\n",
              "      <th>RMSProp</th>\n",
              "      <th>Adam</th>\n",
              "    </tr>\n",
              "  </thead>\n",
              "  <tbody>\n",
              "    <tr>\n",
              "      <th>Accuracy</th>\n",
              "      <td>0.761651</td>\n",
              "      <td>0.75233</td>\n",
              "      <td>0.757656</td>\n",
              "      <td>0.737683</td>\n",
              "    </tr>\n",
              "  </tbody>\n",
              "</table>\n",
              "</div>\n",
              "      <button class=\"colab-df-convert\" onclick=\"convertToInteractive('df-6075f2a0-b688-4351-aea0-f226d1de005e')\"\n",
              "              title=\"Convert this dataframe to an interactive table.\"\n",
              "              style=\"display:none;\">\n",
              "        \n",
              "  <svg xmlns=\"http://www.w3.org/2000/svg\" height=\"24px\"viewBox=\"0 0 24 24\"\n",
              "       width=\"24px\">\n",
              "    <path d=\"M0 0h24v24H0V0z\" fill=\"none\"/>\n",
              "    <path d=\"M18.56 5.44l.94 2.06.94-2.06 2.06-.94-2.06-.94-.94-2.06-.94 2.06-2.06.94zm-11 1L8.5 8.5l.94-2.06 2.06-.94-2.06-.94L8.5 2.5l-.94 2.06-2.06.94zm10 10l.94 2.06.94-2.06 2.06-.94-2.06-.94-.94-2.06-.94 2.06-2.06.94z\"/><path d=\"M17.41 7.96l-1.37-1.37c-.4-.4-.92-.59-1.43-.59-.52 0-1.04.2-1.43.59L10.3 9.45l-7.72 7.72c-.78.78-.78 2.05 0 2.83L4 21.41c.39.39.9.59 1.41.59.51 0 1.02-.2 1.41-.59l7.78-7.78 2.81-2.81c.8-.78.8-2.07 0-2.86zM5.41 20L4 18.59l7.72-7.72 1.47 1.35L5.41 20z\"/>\n",
              "  </svg>\n",
              "      </button>\n",
              "      \n",
              "  <style>\n",
              "    .colab-df-container {\n",
              "      display:flex;\n",
              "      flex-wrap:wrap;\n",
              "      gap: 12px;\n",
              "    }\n",
              "\n",
              "    .colab-df-convert {\n",
              "      background-color: #E8F0FE;\n",
              "      border: none;\n",
              "      border-radius: 50%;\n",
              "      cursor: pointer;\n",
              "      display: none;\n",
              "      fill: #1967D2;\n",
              "      height: 32px;\n",
              "      padding: 0 0 0 0;\n",
              "      width: 32px;\n",
              "    }\n",
              "\n",
              "    .colab-df-convert:hover {\n",
              "      background-color: #E2EBFA;\n",
              "      box-shadow: 0px 1px 2px rgba(60, 64, 67, 0.3), 0px 1px 3px 1px rgba(60, 64, 67, 0.15);\n",
              "      fill: #174EA6;\n",
              "    }\n",
              "\n",
              "    [theme=dark] .colab-df-convert {\n",
              "      background-color: #3B4455;\n",
              "      fill: #D2E3FC;\n",
              "    }\n",
              "\n",
              "    [theme=dark] .colab-df-convert:hover {\n",
              "      background-color: #434B5C;\n",
              "      box-shadow: 0px 1px 3px 1px rgba(0, 0, 0, 0.15);\n",
              "      filter: drop-shadow(0px 1px 2px rgba(0, 0, 0, 0.3));\n",
              "      fill: #FFFFFF;\n",
              "    }\n",
              "  </style>\n",
              "\n",
              "      <script>\n",
              "        const buttonEl =\n",
              "          document.querySelector('#df-6075f2a0-b688-4351-aea0-f226d1de005e button.colab-df-convert');\n",
              "        buttonEl.style.display =\n",
              "          google.colab.kernel.accessAllowed ? 'block' : 'none';\n",
              "\n",
              "        async function convertToInteractive(key) {\n",
              "          const element = document.querySelector('#df-6075f2a0-b688-4351-aea0-f226d1de005e');\n",
              "          const dataTable =\n",
              "            await google.colab.kernel.invokeFunction('convertToInteractive',\n",
              "                                                     [key], {});\n",
              "          if (!dataTable) return;\n",
              "\n",
              "          const docLinkHtml = 'Like what you see? Visit the ' +\n",
              "            '<a target=\"_blank\" href=https://colab.research.google.com/notebooks/data_table.ipynb>data table notebook</a>'\n",
              "            + ' to learn more about interactive tables.';\n",
              "          element.innerHTML = '';\n",
              "          dataTable['output_type'] = 'display_data';\n",
              "          await google.colab.output.renderOutput(dataTable, element);\n",
              "          const docLink = document.createElement('div');\n",
              "          docLink.innerHTML = docLinkHtml;\n",
              "          element.appendChild(docLink);\n",
              "        }\n",
              "      </script>\n",
              "    </div>\n",
              "  </div>\n",
              "  "
            ]
          },
          "metadata": {},
          "execution_count": 296
        }
      ]
    }
  ]
}