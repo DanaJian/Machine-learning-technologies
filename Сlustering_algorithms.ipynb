{
  "nbformat": 4,
  "nbformat_minor": 0,
  "metadata": {
    "colab": {
      "provenance": [],
      "authorship_tag": "ABX9TyOms5gqMxOmHWMlMJXC2FXK",
      "include_colab_link": true
    },
    "kernelspec": {
      "name": "python3",
      "display_name": "Python 3"
    },
    "language_info": {
      "name": "python"
    }
  },
  "cells": [
    {
      "cell_type": "markdown",
      "metadata": {
        "id": "view-in-github",
        "colab_type": "text"
      },
      "source": [
        "<a href=\"https://colab.research.google.com/github/DanaJian/Machine-learning-technologies/blob/main/%D0%A1lustering_algorithms.ipynb\" target=\"_parent\"><img src=\"https://colab.research.google.com/assets/colab-badge.svg\" alt=\"Open In Colab\"/></a>"
      ]
    },
    {
      "cell_type": "code",
      "execution_count": 89,
      "metadata": {
        "id": "xlWGWOdpDiTA"
      },
      "outputs": [],
      "source": [
        "import torch\n",
        "import numpy as np\n",
        "import pandas as pd\n",
        "import plotly.graph_objs as go\n",
        "import matplotlib.pyplot as plt\n",
        "from sklearn.cluster import KMeans\n",
        "from torch.utils.data import random_split\n",
        "from torchvision import datasets, transforms\n",
        "from scipy.spatial.distance import pdist, squareform\n",
        "from scipy.cluster.hierarchy import linkage, dendrogram, fcluster\n",
        "from sklearn.metrics import adjusted_rand_score, normalized_mutual_info_score"
      ]
    },
    {
      "cell_type": "markdown",
      "source": [
        "1. ПОДГОТОВКА ДАННЫХ"
      ],
      "metadata": {
        "id": "-yeGA8yrKixT"
      }
    },
    {
      "cell_type": "code",
      "source": [
        "# Преобразование изображений в тензор и нормализация\n",
        "tf = transforms.Compose([transforms.ToTensor(), transforms.Normalize((0,1307,),(0.3081,))])\n",
        "train_dataset = datasets.MNIST(root='./data', train=True, download=True, transform=tf)\n",
        "test_dataset = datasets.MNIST(root='./data', train=False, download=True, transform=tf)\n",
        "\n",
        "# Преобразование в массивы типа np.ndarray\n",
        "X_train = train_dataset.data[:len(train_dataset)//50].numpy().reshape(-1, 28*28)\n",
        "y_train = train_dataset.targets[:len(train_dataset)//50].numpy()"
      ],
      "metadata": {
        "id": "CjLwgHs-E1cW"
      },
      "execution_count": 90,
      "outputs": []
    },
    {
      "cell_type": "code",
      "source": [
        "train_dataset"
      ],
      "metadata": {
        "colab": {
          "base_uri": "https://localhost:8080/"
        },
        "id": "z-prqMi0MkP6",
        "outputId": "89751044-274d-4912-a4c0-bf2b01333476"
      },
      "execution_count": 91,
      "outputs": [
        {
          "output_type": "execute_result",
          "data": {
            "text/plain": [
              "Dataset MNIST\n",
              "    Number of datapoints: 60000\n",
              "    Root location: ./data\n",
              "    Split: Train\n",
              "    StandardTransform\n",
              "Transform: Compose(\n",
              "               ToTensor()\n",
              "               Normalize(mean=(0, 1307), std=(0.3081,))\n",
              "           )"
            ]
          },
          "metadata": {},
          "execution_count": 91
        }
      ]
    },
    {
      "cell_type": "code",
      "source": [
        "test_dataset"
      ],
      "metadata": {
        "colab": {
          "base_uri": "https://localhost:8080/"
        },
        "id": "ifVY3jgNMxlV",
        "outputId": "8e486a9b-0e03-4fde-c1e5-b773d012f8c3"
      },
      "execution_count": 92,
      "outputs": [
        {
          "output_type": "execute_result",
          "data": {
            "text/plain": [
              "Dataset MNIST\n",
              "    Number of datapoints: 10000\n",
              "    Root location: ./data\n",
              "    Split: Test\n",
              "    StandardTransform\n",
              "Transform: Compose(\n",
              "               ToTensor()\n",
              "               Normalize(mean=(0, 1307), std=(0.3081,))\n",
              "           )"
            ]
          },
          "metadata": {},
          "execution_count": 92
        }
      ]
    },
    {
      "cell_type": "markdown",
      "source": [
        "2. РЕАЛИЗАЦИЯ ФУНКЦИЙ АЛГОРИТМОВ K-MEANS И ИЕРАРХИЧЕСКОЙ КЛАСТЕРИЗАЦИИ"
      ],
      "metadata": {
        "id": "5pegNonSRchS"
      }
    },
    {
      "cell_type": "code",
      "source": [
        "def kmeans(X, k, max_iter=100) -> tuple[np.ndarray, np.ndarray]:\n",
        "    centers = X[np.random.choice(X.shape[0], k, replace=False)]\n",
        "    \n",
        "    for i in range(max_iter):\n",
        "        distances = np.sqrt(((X - centers[:, np.newaxis])**2).sum(axis=2))\n",
        "        labels = distances.argmin(axis=0)\n",
        "        new_centers = np.array([X[labels == j].mean(axis=0) for j in range(k)])\n",
        "        if np.allclose(centers, new_centers):\n",
        "            break\n",
        "        centers = new_centers\n",
        "    return centers, labels\n",
        "\n",
        "\n",
        "def hierarchical_clustering(X, method='ward', metric='euclidean') -> tuple[np.ndarray, np.ndarray]:\n",
        "    distances = np.sqrt(((X[:, np.newaxis, :] - X[np.newaxis, :, :])**2).sum(axis=-1))\n",
        "\n",
        "    linkage_matrix = linkage(distances, method=method, metric=metric)\n",
        "    return linkage_matrix\n",
        "\n",
        "\n",
        "def plot_dendrogram(linkage_matrix, **kwargs):\n",
        "    dendrogram(linkage_matrix, **kwargs)"
      ],
      "metadata": {
        "id": "pJjX5KgfM1Rt"
      },
      "execution_count": 93,
      "outputs": []
    },
    {
      "cell_type": "markdown",
      "source": [
        "3. ПОЛУЧЕНИЕ МЕТОК"
      ],
      "metadata": {
        "id": "leQaqRW8kUt3"
      }
    },
    {
      "cell_type": "code",
      "source": [
        "centers, kmean_labels = kmeans(X_train, k=10)\n",
        "\n",
        "dist_matrix = squareform(pdist(X_train))\n",
        "linkage_matrix = hierarchical_clustering(X_train)\n",
        "hier_clust_labels = fcluster(linkage_matrix, 10, criterion=('maxclust'))\n",
        "plot_dendrogram(linkage_matrix)"
      ],
      "metadata": {
        "colab": {
          "base_uri": "https://localhost:8080/",
          "height": 523
        },
        "id": "yqAoPvYufsGY",
        "outputId": "fda840c5-363d-4e5f-8045-8f0fb0c1fc2c"
      },
      "execution_count": 94,
      "outputs": [
        {
          "output_type": "stream",
          "name": "stderr",
          "text": [
            "<ipython-input-93-480db4b10c3a>:17: ClusterWarning:\n",
            "\n",
            "scipy.cluster: The symmetric non-negative hollow observation matrix looks suspiciously like an uncondensed distance matrix\n",
            "\n"
          ]
        },
        {
          "output_type": "display_data",
          "data": {
            "text/plain": [
              "<Figure size 640x480 with 1 Axes>"
            ],
            "image/png": "[encoded data removed]"
          },
          "metadata": {}
        }
      ]
    },
    {
      "cell_type": "markdown",
      "source": [
        "4. ПОСТРОЕНИЕ КРИВОЙ ЗАВИСИМОСТИ ИНТЕРКЛАСТЕРНОГО РАССТОЯНИЯ  ОТ ЧИСЛА КЛАСТЕРОВ ДЛЯ АЛГОРИТМА ИЕРАРХИЧЕСКОЙ КЛАСТЕРИЗАЦИИ"
      ],
      "metadata": {
        "id": "fY2DOswV28o5"
      }
    },
    {
      "cell_type": "code",
      "source": [
        "n_clusters = list(range(1, len(hier_clust_labels) + 1))  # список с числом кластеров\n",
        "intercluster_distances = linkage_matrix[::-1, 2]  # список с интеркластерным расстоянием\n",
        "scatter = go.Scatter(x=n_clusters, y=intercluster_distances, mode='lines')\n",
        "fig = go.Figure(scatter)\n",
        "fig.update_layout(\n",
        "    xaxis_title='Число кластеров',\n",
        "    yaxis_title='Интеркластерное расстояние',\n",
        "    title='Зависимость интеркластерного расстояния от числа кластеров'\n",
        ")\n",
        "fig.show()"
      ],
      "metadata": {
        "colab": {
          "base_uri": "https://localhost:8080/",
          "height": 542
        },
        "id": "sYAg4x-g2bh_",
        "outputId": "d8fbebf3-3afd-42ae-e42a-02fc38e1ae29"
      },
      "execution_count": 95,
      "outputs": [
        {
          "output_type": "display_data",
          "data": {
            "text/html": [
              "<html>\n",
              "<head><meta charset=\"utf-8\" /></head>\n",
              "<body>\n",
              "    <div>            <script src=\"https://cdnjs.cloudflare.com/ajax/libs/mathjax/2.7.5/MathJax.js?config=TeX-AMS-MML_SVG\"></script><script type=\"text/javascript\">if (window.MathJax && window.MathJax.Hub && window.MathJax.Hub.Config) {window.MathJax.Hub.Config({SVG: {font: \"STIX-Web\"}});}</script>                <script type=\"text/javascript\">window.PlotlyConfig = {MathJaxConfig: 'local'};</script>\n",
              "        <script src=\"https://cdn.plot.ly/plotly-2.18.2.min.js\"></script>                <div id=\"aa2fc4c4-9bd0-4061-a1e5-51389406e879\" class=\"plotly-graph-div\" style=\"height:525px; width:100%;\"></div>            <script type=\"text/javascript\">                                    window.PLOTLYENV=window.PLOTLYENV || {};                                    if (document.getElementById(\"aa2fc4c4-9bd0-4061-a1e5-51389406e879\")) {                    Plotly.newPlot(                        \"aa2fc4c4-9bd0-4061-a1e5-51389406e879\",                        [{\"mode\":\"lines\",\"x\":[1,2,3,4,5,6,7,8,9,10,11,12,13,14,15,16,17,18,19,20,21,22,23,24,25,26,27,28,29,30,31,32,33,34,35,36,37,38,39,40,41,42,43,44,45,46,47,48,49,50,51,52,53,54,55,56,57,58,59,60,61,62,63,64,65,66,67,68,69,70,71,72,73,74,75,76,77,78,79,80,81,82,83,84,85,86,87,88,89,90,91,92,93,94,95,96,97,98,99,100,101,102,103,104,105,106,107,108,109,110,111,112,113,114,115,116,117,118,119,120,121,122,123,124,125,126,127,128,129,130,131,132,133,134,135,136,137,138,139,140,141,142,143,144,145,146,147,148,149,150,151,152,153,154,155,156,157,158,159,160,161,162,163,164,165,166,167,168,169,170,171,172,173,174,175,176,177,178,179,180,181,182,183,184,185,186,187,188,189,190,191,192,193,194,195,196,197,198,199,200,201,202,203,204,205,206,207,208,209,210,211,212,213,214,215,216,217,218,219,220,221,222,223,224,225,226,227,228,229,230,231,232,233,234,235,236,237,238,239,240,241,242,243,244,245,246,247,248,249,250,251,252,253,254,255,256,257,258,259,260,261,262,263,264,265,266,267,268,269,270,271,272,273,274,275,276,277,278,279,280,281,282,283,284,285,286,287,288,289,290,291,292,293,294,295,296,297,298,299,300,301,302,303,304,305,306,307,308,309,310,311,312,313,314,315,316,317,318,319,320,321,322,323,324,325,326,327,328,329,330,331,332,333,334,335,336,337,338,339,340,341,342,343,344,345,346,347,348,349,350,351,352,353,354,355,356,357,358,359,360,361,362,363,364,365,366,367,368,369,370,371,372,373,374,375,376,377,378,379,380,381,382,383,384,385,386,387,388,389,390,391,392,393,394,395,396,397,398,399,400,401,402,403,404,405,406,407,408,409,410,411,412,413,414,415,416,417,418,419,420,421,422,423,424,425,426,427,428,429,430,431,432,433,434,435,436,437,438,439,440,441,442,443,444,445,446,447,448,449,450,451,452,453,454,455,456,457,458,459,460,461,462,463,464,465,466,467,468,469,470,471,472,473,474,475,476,477,478,479,480,481,482,483,484,485,486,487,488,489,490,491,492,493,494,495,496,497,498,499,500,501,502,503,504,505,506,507,508,509,510,511,512,513,514,515,516,517,518,519,520,521,522,523,524,525,526,527,528,529,530,531,532,533,534,535,536,537,538,539,540,541,542,543,544,545,546,547,548,549,550,551,552,553,554,555,556,557,558,559,560,561,562,563,564,565,566,567,568,569,570,571,572,573,574,575,576,577,578,579,580,581,582,583,584,585,586,587,588,589,590,591,592,593,594,595,596,597,598,599,600,601,602,603,604,605,606,607,608,609,610,611,612,613,614,615,616,617,618,619,620,621,622,623,624,625,626,627,628,629,630,631,632,633,634,635,636,637,638,639,640,641,642,643,644,645,646,647,648,649,650,651,652,653,654,655,656,657,658,659,660,661,662,663,664,665,666,667,668,669,670,671,672,673,674,675,676,677,678,679,680,681,682,683,684,685,686,687,688,689,690,691,692,693,694,695,696,697,698,699,700,701,702,703,704,705,706,707,708,709,710,711,712,713,714,715,716,717,718,719,720,721,722,723,724,725,726,727,728,729,730,731,732,733,734,735,736,737,738,739,740,741,742,743,744,745,746,747,748,749,750,751,752,753,754,755,756,757,758,759,760,761,762,763,764,765,766,767,768,769,770,771,772,773,774,775,776,777,778,779,780,781,782,783,784,785,786,787,788,789,790,791,792,793,794,795,796,797,798,799,800,801,802,803,804,805,806,807,808,809,810,811,812,813,814,815,816,817,818,819,820,821,822,823,824,825,826,827,828,829,830,831,832,833,834,835,836,837,838,839,840,841,842,843,844,845,846,847,848,849,850,851,852,853,854,855,856,857,858,859,860,861,862,863,864,865,866,867,868,869,870,871,872,873,874,875,876,877,878,879,880,881,882,883,884,885,886,887,888,889,890,891,892,893,894,895,896,897,898,899,900,901,902,903,904,905,906,907,908,909,910,911,912,913,914,915,916,917,918,919,920,921,922,923,924,925,926,927,928,929,930,931,932,933,934,935,936,937,938,939,940,941,942,943,944,945,946,947,948,949,950,951,952,953,954,955,956,957,958,959,960,961,962,963,964,965,966,967,968,969,970,971,972,973,974,975,976,977,978,979,980,981,982,983,984,985,986,987,988,989,990,991,992,993,994,995,996,997,998,999,1000,1001,1002,1003,1004,1005,1006,1007,1008,1009,1010,1011,1012,1013,1014,1015,1016,1017,1018,1019,1020,1021,1022,1023,1024,1025,1026,1027,1028,1029,1030,1031,1032,1033,1034,1035,1036,1037,1038,1039,1040,1041,1042,1043,1044,1045,1046,1047,1048,1049,1050,1051,1052,1053,1054,1055,1056,1057,1058,1059,1060,1061,1062,1063,1064,1065,1066,1067,1068,1069,1070,1071,1072,1073,1074,1075,1076,1077,1078,1079,1080,1081,1082,1083,1084,1085,1086,1087,1088,1089,1090,1091,1092,1093,1094,1095,1096,1097,1098,1099,1100,1101,1102,1103,1104,1105,1106,1107,1108,1109,1110,1111,1112,1113,1114,1115,1116,1117,1118,1119,1120,1121,1122,1123,1124,1125,1126,1127,1128,1129,1130,1131,1132,1133,1134,1135,1136,1137,1138,1139,1140,1141,1142,1143,1144,1145,1146,1147,1148,1149,1150,1151,1152,1153,1154,1155,1156,1157,1158,1159,1160,1161,1162,1163,1164,1165,1166,1167,1168,1169,1170,1171,1172,1173,1174,1175,1176,1177,1178,1179,1180,1181,1182,1183,1184,1185,1186,1187,1188,1189,1190,1191,1192,1193,1194,1195,1196,1197,1198,1199,1200],\"y\":[10889.437242095226,7384.34886244058,4126.44345779916,2629.490918147943,2535.4388858395737,2022.5622723088204,1496.0540933421833,1131.4478943783333,1064.3431650404575,1016.5092198125415,1014.5552903443789,858.4756385792996,847.01485254228,806.7934258994468,806.6443570173757,771.7538943101862,745.5117529210788,718.1489888341853,694.9735416665409,692.1265966204883,659.9350001718791,656.6047087102384,632.8425324737564,607.4432702275283,605.4519261219206,605.3701063384689,599.8791661379314,591.7213394629144,588.9996325505015,519.1927680610098,516.5300062433157,515.7293043226633,506.7771654211369,505.5451615426472,496.5767732763603,488.81313081251756,483.49027993214474,475.70702437049414,474.3473796126032,469.55544820460267,465.8645937055573,462.2084496080896,460.41401203000265,459.6496449325711,459.61294166767743,454.80415442755117,450.0162344572714,446.45504252813726,445.0552216073726,444.5113904945509,435.07187926308563,433.5162350346482,430.59284323522314,427.87846532636,425.2992978932706,422.21058870363026,419.5589339192261,419.2779669995197,418.6505387259426,415.14874747938904,411.4485410360697,409.8209742264042,406.00749563981145,401.02814307116915,400.06665469975746,398.23146409791815,398.04018031137684,394.12690257976277,392.21742115211845,392.19920872764004,390.1368088064854,388.8928608201316,386.8450964521473,386.7611549862287,380.3785386558894,377.2230288099071,376.67024283971676,374.89764889840785,371.7147131717272,371.072167367623,367.7722067363777,367.51172248768313,366.03060524489683,364.25571259041715,362.3369214597577,361.0747690584676,358.52185105177404,357.09115557180206,356.0491776323089,350.35942537967475,347.9086802788398,347.63414582479993,346.8223112216618,346.6158229021531,346.10912515343176,344.46699667274373,342.54673135100876,342.08666481641893,340.98078781265565,338.904012824776,338.74016632865585,338.53271490764337,337.0258138991292,335.1475205945915,334.94370166321727,334.4617913501252,332.35126120023034,331.30280760386995,331.27131654172103,329.13279633987366,328.9564171784415,328.6588490020149,328.6499183582975,328.09734752296504,327.69037902824704,327.6724670765005,325.9628936103171,325.9374289035889,324.38322844690845,324.3153561486776,323.38187205603924,322.99016772559156,321.23977754007234,321.0375996054221,320.84935358536717,320.5473308650134,320.26476154008947,319.4201090572315,317.96442532844134,317.37464135268743,317.16597822644553,317.1499822113098,316.3435187325962,316.12459586205273,315.30247883311057,313.7670045676022,311.82131236953256,311.6653263353786,311.08608624193823,311.037196551422,310.81311675295524,310.4809093917563,309.6698075554136,309.39063528134557,309.2027865019338,308.33738288331426,308.0621763944446,308.01057236487947,307.7563481992741,307.5822103180799,306.9255969549988,306.8854117398445,305.0064336046835,304.8202554072774,303.8569126819502,303.7204972812496,303.5905358771017,302.82025100081046,301.9078129188969,301.6416923541408,301.33445437059646,301.05090466249646,300.6527397634116,300.3963897086247,300.37364618112707,300.2862331750524,299.7420521923274,299.32018694506775,298.7513328279341,298.49691314983176,298.06317261315854,296.88813322063334,296.77173329146876,296.3400102044818,296.1249455148013,295.48877383685135,295.463392835042,295.4492084397214,295.1811583345444,295.07159090832624,294.5875980692766,294.46800023083375,294.4494040095807,294.34601096898245,294.28890888481817,294.19819591673837,292.98420657313113,292.7426670049995,292.3359270433353,292.09002581290525,291.23331480188796,291.2140893361467,291.100900030122,290.9454533642383,290.85512431624267,290.64466534745856,290.4197789604357,290.28875003700347,290.2066687132144,289.8153591340913,289.66174774083584,288.9303898451369,288.5216564421904,288.30513413541746,288.28582501317334,287.8630032873813,287.6427646048221,287.578757890623,287.07001350947826,286.8383682125563,286.74509670001856,286.39137425567907,285.7520890583746,285.1868791542072,284.88941863329114,284.7916916472799,284.7571622383736,284.51502642199904,284.37629097197566,284.0437930337177,283.97767059225237,283.663560768647,283.5750801077929,282.9509078906647,282.8249606619687,282.59388914450864,281.9431949777877,281.8418343781606,281.7594682530604,281.60556010863064,281.35649587579763,281.2255513337868,280.83187610513073,279.9148680864814,279.8970302205122,279.70883911983884,279.6323702380261,278.38635412930745,278.2582647317527,278.14229297717173,277.8101025978835,277.54881774100636,277.47536651588166,277.4679362663228,277.32712317303367,277.3208475634713,276.95020917778993,276.71436426727513,276.6772411486331,276.66735775154643,276.6261875021911,276.5375543067942,276.49500520190776,276.26487947212996,276.11196458516605,276.0159823762713,275.8783569535946,275.8278079835071,275.75722786794364,275.75596665400116,275.59217375583535,275.51243239028526,275.40051611311713,275.0876399792853,274.43101914899523,274.07307539868407,273.7828025371144,273.225765432571,273.1967504946091,272.75305406722157,272.59813431607677,272.51519771474426,272.4507606631645,272.228521157716,272.20766190380493,271.9082426289222,271.67649242576334,271.60531143435446,271.38251462170433,270.9292136125571,270.81253896739923,270.456913652382,270.38942132230983,270.33875355382213,269.8068192132184,269.71666172480496,269.4479012826879,269.33214228075315,269.2681987387664,269.18132906339497,268.8647749476507,268.8249428069917,268.8155597051365,268.6084848596191,268.3886217110367,268.3777586433741,268.328837447979,268.32627104325235,268.2093450696374,268.09079448445516,267.98889452654134,267.9705974159313,267.79789424653717,267.7302834747213,267.7211889737234,267.63924101120864,267.5556298280106,267.50145192001446,267.2287245428787,267.178619684885,267.1594707224842,267.03946539182454,266.9038918871928,266.8989255206402,266.86734197604653,266.6430669760332,266.42324952323395,265.86845266565876,265.6832203358503,265.67145257051584,265.50867574049335,265.40790973146176,265.39515361158044,265.2572842995555,265.1278430374199,265.0269778773902,265.02369899119566,264.81582874160733,264.75175012542485,264.6272474277447,264.6160487577192,264.5471961955514,264.5091768380627,264.3343009852022,264.32278087305116,264.3021847756382,264.27535392405815,264.10418365401625,264.03406395136415,264.00136396307374,263.97428864046947,263.9656877221756,263.9520350630617,263.88089372390266,263.86505006508787,263.7104003734326,263.4056590507991,263.30261150720867,263.18433807728263,262.9735382886669,262.89420475761494,262.75962969929117,262.70413826772455,262.6663861350383,262.6422060038315,262.6376271865863,262.54610350162585,262.48579415261514,262.2069392019985,261.40963652462153,261.34604574827654,261.3435867892636,261.1160733094225,261.0568240261693,261.03067531254754,260.92023671703663,260.77224209447536,260.7261013599301,260.46333495630614,260.3470642649601,260.0262349567671,259.99138622057455,259.90498165678974,259.9036445172025,259.890498480584,259.72747056143453,259.6678163161192,259.63398978121654,259.6267187998432,259.35637460671666,259.0988446062619,259.06820809121837,258.93476969920715,258.86091808689054,258.4536453168857,258.1029553288833,257.6375434037861,257.6034224077256,257.5970329359489,257.5359334713605,257.4297098660691,257.15512642973664,256.9442857994312,256.9290179022344,256.88468287206655,256.8778570896803,256.87495441304924,256.83388123875716,256.8308644882649,256.68177697070286,256.4822337177,256.4447997627615,256.43217484171316,256.37619587804267,256.3424358079361,256.0489050693815,256.02400104168055,255.99010970760133,255.96128057990825,255.88002325552085,255.76599870362705,255.72161666751194,255.67357597487302,255.4300975431026,255.41738896880415,255.3936791118387,255.36481766682607,255.22494337773432,254.92656446039632,254.86962195964654,254.80759156927604,254.78092892697273,254.683197189831,254.5824125917094,254.44895430438928,254.37110752150352,254.3697713103253,253.9781397266619,253.85978606035368,253.82993042377979,253.7722402361054,253.64625375659858,253.52497907643306,253.45478422590475,253.28583170180428,253.19874423397036,253.0125117443397,252.93128582900093,252.922812958364,252.82366570108738,252.6353781697587,252.6297942584428,252.59663950171114,252.548427696414,252.51052296725186,252.05572165430195,252.01496279562116,251.9986556229099,251.91998220545003,251.82303497953123,251.80966416244496,251.7025816355477,251.677558495097,251.56291941249265,251.55557090749093,251.53207699854818,251.44533530049034,251.3647428262956,251.35355303461097,251.32139323463215,251.3057558289655,251.25091044002735,251.14111621808533,251.13026586956397,251.11368357315786,251.11360226774073,251.05145443205276,251.02262650997483,250.90288278768298,250.8152866829753,250.80297768770453,250.72357978181068,250.66230931111295,250.4598043619336,250.31783766952816,250.3175739939499,250.25714799115792,250.25142426426856,250.2008791080829,250.1832703246566,249.9706127560692,249.96195081451756,249.84169574027388,249.7898379004238,249.78113121880787,249.7474322431596,249.72896025694513,249.516131501809,249.5106434113504,249.49707761478794,249.42018039843578,249.34987066225025,249.27829322317064,249.0395301795681,248.86690722368783,248.76848596445896,248.742508136044,248.723961687081,248.65285671335295,248.5810178937071,248.56261879739293,248.47793685587703,248.32656978114244,248.22790885555398,248.21635671468874,248.21553878382463,248.20052430306689,248.1938207330499,248.16478112179897,248.13890780113738,248.11411219139816,248.09984762870778,248.09180786579063,247.80444287991142,247.74165812908765,247.5730180577407,247.5195624132553,247.2006726555638,247.13313369764066,247.08906059948364,246.98431828765695,246.98143883628308,246.90706886076268,246.85429002923334,246.81015084833552,246.7436192649121,246.73719635454836,246.54447445344252,246.48181059436112,246.38563264514536,246.29760707725882,246.2716396710284,246.23532774696045,246.2125354991592,246.11785813401295,246.02636277997894,245.936721402079,245.8286198367383,245.81296907471884,245.77504243584008,245.7061938965619,245.7004487806435,245.5945612588533,245.46637207617016,245.31243322432786,245.25008889742722,245.11641937617696,245.0737699444468,245.04178795077058,245.0415674412051,245.0136953897574,245.01160770187005,244.963418296626,244.8658334198996,244.82880916467533,244.79306211968563,244.78222853074112,244.7757726632784,244.69454174425647,244.64963880310307,244.56279748742827,244.34200877078587,244.2510969206591,244.1876176964855,244.1224912533871,243.9927945595691,243.97982507739727,243.9227224647916,243.90271823154148,243.82955600715067,243.79297102561506,243.7784632090741,243.77639853272476,243.71144886674423,243.68328640290932,243.46757630315653,243.43441309766817,243.41637751241655,243.39127882703312,243.36738190541584,243.32561246792525,243.2913929500301,243.28041312795628,243.21562163055864,243.02258956025025,242.99632528680493,242.9445772871245,242.8941985078558,242.74777045065647,242.64230584819825,242.55947142127204,242.2756127815001,242.07806304351274,242.02741157286482,241.8016374019715,241.79498289080277,241.6889775036489,241.63809674639754,241.57609045269106,241.539488307134,241.430900104374,241.34063720922424,241.2949004850398,241.26573096423255,241.13757656827303,241.0770221486317,241.00341504995217,240.9833169510657,240.97852138689007,240.92874318277708,240.91136555712814,240.8491732433823,240.81798913748293,240.68508425626737,240.6677407131781,240.5946935531529,240.5939624617477,240.5241983281355,240.50973878168756,240.5009133339141,240.44048551815305,240.38086380677296,240.35698999466223,240.35549909269417,240.3429901025718,240.33884906388337,240.2057120682622,240.17517511881834,240.14876514942895,240.10166704206137,240.0537201363491,240.03743205085124,240.0208059317568,240.00207811117733,239.92555908462276,239.92047597990145,239.92015340198213,239.6934812822644,239.61807675458056,239.55116090360102,239.4906397029011,239.39268287171333,239.32502114415453,239.32091738387177,239.2708453962244,239.23367462956278,239.22658835420984,239.2105697112337,239.07870413412738,239.05175416797115,239.0475207472796,239.04471127241794,239.03212138707025,238.9612754498693,238.83475410966514,238.69385257908687,238.67741712781142,238.65354389431832,238.6015837699234,238.57484644190316,238.4387587187041,238.4286466925465,238.38220920242773,238.3755594750792,238.37169509410904,238.34267639091505,238.3386099942532,238.24533817855266,238.21850085856914,238.19261850013805,238.11500983770097,238.1076997676053,238.07072997390486,238.0651872498121,238.0421777688259,237.92733212978024,237.8111148024814,237.73684612020477,237.67741295538946,237.67614853921887,237.4891350540116,237.46405446700606,237.34162438321613,237.26123581855578,237.16186676897274,237.14551238315866,237.11435210246032,236.97646037454817,236.92437213242798,236.90056666734176,236.68545423083864,236.64229482876377,236.57022366134734,236.4787620051986,236.40075412645953,236.3854151049558,236.33085247464692,236.3180970367488,236.2849636040036,236.13952229237228,236.0784561387838,235.86971825392462,235.84833070826406,235.71251261579064,235.70145662658084,235.62758512148363,235.59440265024185,235.57119751623182,235.5504997207829,235.51883089790422,235.34321738442105,235.1723070906509,235.11661406657575,235.0636655806562,235.05289501491316,234.8271561942617,234.7568869911141,234.72827735835472,234.6839309293013,234.68241775098858,234.64388636810912,234.62584008572807,234.5156864292495,234.4526885705712,234.4380137200293,234.3670971757041,234.33196101779274,234.28615445061902,234.06448308081607,233.97861364202697,233.88812975586893,233.8460045612515,233.8390019197444,233.6773352452683,233.55664804341865,233.5463404937599,233.48283342691138,233.4363585398995,233.35369536775457,233.34614460220806,233.30423472268075,233.2872661295448,233.1697959580354,233.0819938243891,233.04442621313206,233.02798461635487,232.90552148490326,232.78510630163012,232.75900660208205,232.55841961177222,232.54322892223092,232.49187470772608,232.43716565376533,232.42732876766428,232.4236623385475,232.38701167478405,232.37149896466428,232.33469159729842,232.32727875500868,232.25855080201134,232.23858434883698,232.05630362471808,232.04625902937303,232.0165111138344,231.86386560692605,231.7040780764899,231.70250529097822,231.64082402784408,231.6068779387691,231.48592724670016,231.37121533890155,231.36908054806025,231.3532878242953,231.3456809922897,231.32799297225645,231.22487169343168,231.14937044597107,231.147537167766,231.11373255711845,231.091598270455,231.07658213107297,230.96125470404218,230.91436882989262,230.80602790877947,230.6050958382501,230.5896335986857,230.48356099895793,230.1153107738279,230.0727828859591,230.0440183730251,230.02304105025374,229.9692244743444,229.90892554117184,229.8238742580013,229.78146949175428,229.77157720534578,229.72378662459747,229.62479309167134,229.56360954220594,229.53608072738368,229.36360974668645,229.2888098468411,229.27263440399912,229.24757803529423,229.16961706401895,229.11303286672418,229.03297193642715,229.0271397402375,228.9408149802305,228.93347520939645,228.89233543086002,228.79627822116868,228.6841297883177,228.66350631663713,228.6597371267663,228.53644114039682,228.5264403972205,228.50024826930715,228.33597658371505,228.28348030589387,228.23176205911759,228.01476928683485,227.94498290078047,227.8423866141916,227.8171440111878,227.7806719891557,227.77191179835816,227.56533136195625,227.32861037800606,227.3152151018969,227.12849465873055,227.08487712871633,227.0466216253379,226.98349972730486,226.9379420817516,226.75694317311974,226.651041600332,226.42491726734622,226.41022861893214,226.3826342208603,226.37672409379726,226.22850256214073,226.09667215625637,226.0082218784761,225.99466442375535,225.95433208061488,225.8817070817743,225.83759208688136,225.82412323379026,225.77886620302928,225.6171744413919,225.55911948824405,225.5215168927575,225.41424592895092,225.30738437292413,225.28984553626026,225.12599820420974,225.0415036781268,225.0309103730261,225.00440161211932,224.94154728445815,224.71862396711137,224.68756215131089,224.63233665230533,224.5514298563813,224.54132932223482,224.5281566037905,224.52707653778322,224.38153095330875,224.34421781802942,224.03029613259767,223.99664054350322,223.9899069804793,223.9657801976236,223.84575352043288,223.8107890160949,223.64504736592838,223.61864006430073,223.4960421562941,223.4659093686118,223.40360264319233,223.2874510374827,223.21640291076807,223.21081867665248,223.17622317003338,223.04273465619528,223.00066732359565,222.99334222348335,222.9165207261639,222.76879723059,222.75469574262914,222.70646923895015,222.65930681616388,222.55917563761295,222.4388082230937,222.42675305852975,222.42574754337525,222.31336622417217,222.2762087972375,222.26489132388534,222.202172028074,222.08751762106706,221.96350338997968,221.88548748528143,221.7503251113357,221.7188667100703,221.58333522780202,221.3899116993661,221.31778015817127,221.3106373472334,221.3096015875916,221.25044719833963,221.22258620562286,221.0125573657038,220.9070835083507,220.89965846256345,220.8020697834736,220.70559579101513,220.65022694532183,220.52483562901253,220.31896635703947,220.30769793494815,220.29477818452784,220.27362805533244,220.2349617296485,220.21856586130292,220.18177306288743,220.03503697807267,220.02169871421452,219.8964424577279,219.83442470794404,219.7919932091842,219.6488842113114,219.5522217295647,219.49852867537194,219.4337810663324,219.14166605653062,219.0785385518089,219.0641522442148,218.9763846131846,218.89668276623368,218.7953960601046,218.61094079700072,218.573654642145,218.54705168102404,218.370315269209,218.3590886406873,218.19318292003555,218.13763040260886,217.87542194957229,217.78690609441753,217.7329801380059,217.70625312427322,217.59891736711876,217.07174726197903,216.89071412475525,216.85052482287875,216.7949725138202,216.6621094248369,216.63026023964125,216.61479205155516,216.61033211146886,216.55747497658123,216.53943361995434,216.51993195368482,216.35766034217397,216.27596008689906,216.05440919110222,215.9872346872006,215.92524023085284,215.92161238903046,215.74539894330704,215.6823739432962,215.60747446609864,215.4855262748693,215.38758864094007,215.36609563388942,215.18515625330986,215.0657631362029,215.05003089849444,214.9383766805453,214.88152838626613,214.87356842441346,214.82908765703837,214.63265587160268,214.6198335320677,214.34697212725922,214.31729604834467,214.30399837117113,214.19846771342762,214.08735583706687,214.0572678270752,213.96065395954005,213.93900005050304,213.75146526646236,213.7350038616325,213.73278415265958,213.68885256339044,213.6682287315649,213.53391427408644,213.46980989766723,213.35023529356675,213.17359495386302,213.1189723429616,212.8996738803063,212.5716960005609,212.48915587399674,212.39663315698706,211.9226598137899,211.86017572825813,211.6748870960606,211.64003178079335,211.5869987895795,211.20865921640095,211.16480126446655,211.13109047400872,211.13006224687692,211.00752103535913,210.73303862054055,210.20360986250392,210.15941350561104,210.1231825083776,210.0259030435793,210.0037156636631,209.9214366282479,209.92019930799742,209.83120285100767,209.69007530285398,209.6851630988851,209.40632970944827,209.39162642181049,209.30825617994182,209.1883517323361,209.12050274002908,209.1002666596633,209.00600907624124,208.9975737781333,208.7012668072195,208.51752072464808,207.90395489487636,207.88513234497245,207.59534724247175,207.5699428759233,207.49638333263263,207.4103192815615,207.2602964549547,207.0466988523212,207.02871259936484,206.50297323748296,205.74931718976967,205.27948306585822,205.227612651817,205.22006599099095,205.04587266207432,204.5911007116054,204.49985343961393,204.4597164811452,204.09235590808103,203.7781701976517,203.62709525780795,203.4300297135902,203.38551967629306,203.29941678919874,203.26050736547674,202.4810874807683,202.048639155084,202.0137851510136,201.8734457800072,201.81743623550267,201.62034149845385,201.56503588472586,201.54800273073585,201.50560682262648,200.8219523468276,200.78855568080266,200.77576294255488,200.25040815325931,199.92164915041118,199.72382874573,199.15556008235936,198.63532344058288,198.3958667410294,198.2974063695956,197.51470234985243,196.02949623071999,195.41677496960452,195.15492321723718,194.78087943018937,194.5574039751632,194.5295085112556,194.07398783931959,194.06169943647853,193.5543668224463,193.44019736977663,193.39954134423806,193.0222031241331,192.55880718583336,192.33451981257312,192.25769404227069,192.1626326150945,191.50517264533343,191.467977900171,191.0958201781747,190.9724573269615,189.80605967624103,189.71717367017123,189.479501948657,189.07660759138656,188.22534601954573,188.02219219091722,187.9360623518157,187.3477212236076,187.23992324680967,186.56920723254316,186.2913486074082,185.67231500432476,184.90550637133182,184.62145575074192,183.8409981516705,183.6238543834259,183.3242392206904,183.31404325128563,182.8411217292886,182.73860234637925,182.52232244436198,182.20888781693904,181.659104754206,181.48477911918917,181.14105670074863,179.62069321801948,179.15425236827744,179.13117635689275,178.52685968120846,178.45941690056034,178.13985012620765,177.93012941723106,177.89637430909463,177.3610640992942,176.34734476277657,175.72638259612822,175.6382069079158,175.1445121508134,174.7957985278958,174.71160356118762,174.19789272885913,173.8909813215008,173.89023969676316,173.60895014057937,172.8208636038537,171.92393338317845,171.4580061820253,171.1162831322717,170.5884631894194,170.55523817656044,170.50719023795574,170.50063442373317,169.76767446324124,169.1890275881803,169.10792551132303,168.72109167983044,168.39263957424615,168.355832167122,168.09068287219205,168.0288486594613,167.85767621747925,167.26247495340834,167.03623924290463,166.21761444247804,166.09056995888648,166.04590248021213,165.5155503271628,165.4403334188288,164.95382409745463,164.896655474792,164.74554683531036,164.24350478548072,164.02245603555997,163.8175987117031,163.51802108355128,162.25663109098,161.86032789616434,161.47539298967996,158.61250158494565,157.3562093917221,156.8555504738248,155.16346858827538,153.57320055220157,153.57190257443162,147.90057344072113,147.7269078723097,146.71158458745316,146.11076561352772,144.61308762197137,143.02477861180049,142.5338364254097,133.8776207366619,133.26330945562097,131.48042677984068,128.902266670333],\"type\":\"scatter\"}],                        {\"template\":{\"data\":{\"histogram2dcontour\":[{\"type\":\"histogram2dcontour\",\"colorbar\":{\"outlinewidth\":0,\"ticks\":\"\"},\"colorscale\":[[0.0,\"#0d0887\"],[0.1111111111111111,\"#46039f\"],[0.2222222222222222,\"#7201a8\"],[0.3333333333333333,\"#9c179e\"],[0.4444444444444444,\"#bd3786\"],[0.5555555555555556,\"#d8576b\"],[0.6666666666666666,\"#ed7953\"],[0.7777777777777778,\"#fb9f3a\"],[0.8888888888888888,\"#fdca26\"],[1.0,\"#f0f921\"]]}],\"choropleth\":[{\"type\":\"choropleth\",\"colorbar\":{\"outlinewidth\":0,\"ticks\":\"\"}}],\"histogram2d\":[{\"type\":\"histogram2d\",\"colorbar\":{\"outlinewidth\":0,\"ticks\":\"\"},\"colorscale\":[[0.0,\"#0d0887\"],[0.1111111111111111,\"#46039f\"],[0.2222222222222222,\"#7201a8\"],[0.3333333333333333,\"#9c179e\"],[0.4444444444444444,\"#bd3786\"],[0.5555555555555556,\"#d8576b\"],[0.6666666666666666,\"#ed7953\"],[0.7777777777777778,\"#fb9f3a\"],[0.8888888888888888,\"#fdca26\"],[1.0,\"#f0f921\"]]}],\"heatmap\":[{\"type\":\"heatmap\",\"colorbar\":{\"outlinewidth\":0,\"ticks\":\"\"},\"colorscale\":[[0.0,\"#0d0887\"],[0.1111111111111111,\"#46039f\"],[0.2222222222222222,\"#7201a8\"],[0.3333333333333333,\"#9c179e\"],[0.4444444444444444,\"#bd3786\"],[0.5555555555555556,\"#d8576b\"],[0.6666666666666666,\"#ed7953\"],[0.7777777777777778,\"#fb9f3a\"],[0.8888888888888888,\"#fdca26\"],[1.0,\"#f0f921\"]]}],\"heatmapgl\":[{\"type\":\"heatmapgl\",\"colorbar\":{\"outlinewidth\":0,\"ticks\":\"\"},\"colorscale\":[[0.0,\"#0d0887\"],[0.1111111111111111,\"#46039f\"],[0.2222222222222222,\"#7201a8\"],[0.3333333333333333,\"#9c179e\"],[0.4444444444444444,\"#bd3786\"],[0.5555555555555556,\"#d8576b\"],[0.6666666666666666,\"#ed7953\"],[0.7777777777777778,\"#fb9f3a\"],[0.8888888888888888,\"#fdca26\"],[1.0,\"#f0f921\"]]}],\"contourcarpet\":[{\"type\":\"contourcarpet\",\"colorbar\":{\"outlinewidth\":0,\"ticks\":\"\"}}],\"contour\":[{\"type\":\"contour\",\"colorbar\":{\"outlinewidth\":0,\"ticks\":\"\"},\"colorscale\":[[0.0,\"#0d0887\"],[0.1111111111111111,\"#46039f\"],[0.2222222222222222,\"#7201a8\"],[0.3333333333333333,\"#9c179e\"],[0.4444444444444444,\"#bd3786\"],[0.5555555555555556,\"#d8576b\"],[0.6666666666666666,\"#ed7953\"],[0.7777777777777778,\"#fb9f3a\"],[0.8888888888888888,\"#fdca26\"],[1.0,\"#f0f921\"]]}],\"surface\":[{\"type\":\"surface\",\"colorbar\":{\"outlinewidth\":0,\"ticks\":\"\"},\"colorscale\":[[0.0,\"#0d0887\"],[0.1111111111111111,\"#46039f\"],[0.2222222222222222,\"#7201a8\"],[0.3333333333333333,\"#9c179e\"],[0.4444444444444444,\"#bd3786\"],[0.5555555555555556,\"#d8576b\"],[0.6666666666666666,\"#ed7953\"],[0.7777777777777778,\"#fb9f3a\"],[0.8888888888888888,\"#fdca26\"],[1.0,\"#f0f921\"]]}],\"mesh3d\":[{\"type\":\"mesh3d\",\"colorbar\":{\"outlinewidth\":0,\"ticks\":\"\"}}],\"scatter\":[{\"fillpattern\":{\"fillmode\":\"overlay\",\"size\":10,\"solidity\":0.2},\"type\":\"scatter\"}],\"parcoords\":[{\"type\":\"parcoords\",\"line\":{\"colorbar\":{\"outlinewidth\":0,\"ticks\":\"\"}}}],\"scatterpolargl\":[{\"type\":\"scatterpolargl\",\"marker\":{\"colorbar\":{\"outlinewidth\":0,\"ticks\":\"\"}}}],\"bar\":[{\"error_x\":{\"color\":\"#2a3f5f\"},\"error_y\":{\"color\":\"#2a3f5f\"},\"marker\":{\"line\":{\"color\":\"#E5ECF6\",\"width\":0.5},\"pattern\":{\"fillmode\":\"overlay\",\"size\":10,\"solidity\":0.2}},\"type\":\"bar\"}],\"scattergeo\":[{\"type\":\"scattergeo\",\"marker\":{\"colorbar\":{\"outlinewidth\":0,\"ticks\":\"\"}}}],\"scatterpolar\":[{\"type\":\"scatterpolar\",\"marker\":{\"colorbar\":{\"outlinewidth\":0,\"ticks\":\"\"}}}],\"histogram\":[{\"marker\":{\"pattern\":{\"fillmode\":\"overlay\",\"size\":10,\"solidity\":0.2}},\"type\":\"histogram\"}],\"scattergl\":[{\"type\":\"scattergl\",\"marker\":{\"colorbar\":{\"outlinewidth\":0,\"ticks\":\"\"}}}],\"scatter3d\":[{\"type\":\"scatter3d\",\"line\":{\"colorbar\":{\"outlinewidth\":0,\"ticks\":\"\"}},\"marker\":{\"colorbar\":{\"outlinewidth\":0,\"ticks\":\"\"}}}],\"scattermapbox\":[{\"type\":\"scattermapbox\",\"marker\":{\"colorbar\":{\"outlinewidth\":0,\"ticks\":\"\"}}}],\"scatterternary\":[{\"type\":\"scatterternary\",\"marker\":{\"colorbar\":{\"outlinewidth\":0,\"ticks\":\"\"}}}],\"scattercarpet\":[{\"type\":\"scattercarpet\",\"marker\":{\"colorbar\":{\"outlinewidth\":0,\"ticks\":\"\"}}}],\"carpet\":[{\"aaxis\":{\"endlinecolor\":\"#2a3f5f\",\"gridcolor\":\"white\",\"linecolor\":\"white\",\"minorgridcolor\":\"white\",\"startlinecolor\":\"#2a3f5f\"},\"baxis\":{\"endlinecolor\":\"#2a3f5f\",\"gridcolor\":\"white\",\"linecolor\":\"white\",\"minorgridcolor\":\"white\",\"startlinecolor\":\"#2a3f5f\"},\"type\":\"carpet\"}],\"table\":[{\"cells\":{\"fill\":{\"color\":\"#EBF0F8\"},\"line\":{\"color\":\"white\"}},\"header\":{\"fill\":{\"color\":\"#C8D4E3\"},\"line\":{\"color\":\"white\"}},\"type\":\"table\"}],\"barpolar\":[{\"marker\":{\"line\":{\"color\":\"#E5ECF6\",\"width\":0.5},\"pattern\":{\"fillmode\":\"overlay\",\"size\":10,\"solidity\":0.2}},\"type\":\"barpolar\"}],\"pie\":[{\"automargin\":true,\"type\":\"pie\"}]},\"layout\":{\"autotypenumbers\":\"strict\",\"colorway\":[\"#636efa\",\"#EF553B\",\"#00cc96\",\"#ab63fa\",\"#FFA15A\",\"#19d3f3\",\"#FF6692\",\"#B6E880\",\"#FF97FF\",\"#FECB52\"],\"font\":{\"color\":\"#2a3f5f\"},\"hovermode\":\"closest\",\"hoverlabel\":{\"align\":\"left\"},\"paper_bgcolor\":\"white\",\"plot_bgcolor\":\"#E5ECF6\",\"polar\":{\"bgcolor\":\"#E5ECF6\",\"angularaxis\":{\"gridcolor\":\"white\",\"linecolor\":\"white\",\"ticks\":\"\"},\"radialaxis\":{\"gridcolor\":\"white\",\"linecolor\":\"white\",\"ticks\":\"\"}},\"ternary\":{\"bgcolor\":\"#E5ECF6\",\"aaxis\":{\"gridcolor\":\"white\",\"linecolor\":\"white\",\"ticks\":\"\"},\"baxis\":{\"gridcolor\":\"white\",\"linecolor\":\"white\",\"ticks\":\"\"},\"caxis\":{\"gridcolor\":\"white\",\"linecolor\":\"white\",\"ticks\":\"\"}},\"coloraxis\":{\"colorbar\":{\"outlinewidth\":0,\"ticks\":\"\"}},\"colorscale\":{\"sequential\":[[0.0,\"#0d0887\"],[0.1111111111111111,\"#46039f\"],[0.2222222222222222,\"#7201a8\"],[0.3333333333333333,\"#9c179e\"],[0.4444444444444444,\"#bd3786\"],[0.5555555555555556,\"#d8576b\"],[0.6666666666666666,\"#ed7953\"],[0.7777777777777778,\"#fb9f3a\"],[0.8888888888888888,\"#fdca26\"],[1.0,\"#f0f921\"]],\"sequentialminus\":[[0.0,\"#0d0887\"],[0.1111111111111111,\"#46039f\"],[0.2222222222222222,\"#7201a8\"],[0.3333333333333333,\"#9c179e\"],[0.4444444444444444,\"#bd3786\"],[0.5555555555555556,\"#d8576b\"],[0.6666666666666666,\"#ed7953\"],[0.7777777777777778,\"#fb9f3a\"],[0.8888888888888888,\"#fdca26\"],[1.0,\"#f0f921\"]],\"diverging\":[[0,\"#8e0152\"],[0.1,\"#c51b7d\"],[0.2,\"#de77ae\"],[0.3,\"#f1b6da\"],[0.4,\"#fde0ef\"],[0.5,\"#f7f7f7\"],[0.6,\"#e6f5d0\"],[0.7,\"#b8e186\"],[0.8,\"#7fbc41\"],[0.9,\"#4d9221\"],[1,\"#276419\"]]},\"xaxis\":{\"gridcolor\":\"white\",\"linecolor\":\"white\",\"ticks\":\"\",\"title\":{\"standoff\":15},\"zerolinecolor\":\"white\",\"automargin\":true,\"zerolinewidth\":2},\"yaxis\":{\"gridcolor\":\"white\",\"linecolor\":\"white\",\"ticks\":\"\",\"title\":{\"standoff\":15},\"zerolinecolor\":\"white\",\"automargin\":true,\"zerolinewidth\":2},\"scene\":{\"xaxis\":{\"backgroundcolor\":\"#E5ECF6\",\"gridcolor\":\"white\",\"linecolor\":\"white\",\"showbackground\":true,\"ticks\":\"\",\"zerolinecolor\":\"white\",\"gridwidth\":2},\"yaxis\":{\"backgroundcolor\":\"#E5ECF6\",\"gridcolor\":\"white\",\"linecolor\":\"white\",\"showbackground\":true,\"ticks\":\"\",\"zerolinecolor\":\"white\",\"gridwidth\":2},\"zaxis\":{\"backgroundcolor\":\"#E5ECF6\",\"gridcolor\":\"white\",\"linecolor\":\"white\",\"showbackground\":true,\"ticks\":\"\",\"zerolinecolor\":\"white\",\"gridwidth\":2}},\"shapedefaults\":{\"line\":{\"color\":\"#2a3f5f\"}},\"annotationdefaults\":{\"arrowcolor\":\"#2a3f5f\",\"arrowhead\":0,\"arrowwidth\":1},\"geo\":{\"bgcolor\":\"white\",\"landcolor\":\"#E5ECF6\",\"subunitcolor\":\"white\",\"showland\":true,\"showlakes\":true,\"lakecolor\":\"white\"},\"title\":{\"x\":0.05},\"mapbox\":{\"style\":\"light\"}}},\"xaxis\":{\"title\":{\"text\":\"\\u0427\\u0438\\u0441\\u043b\\u043e \\u043a\\u043b\\u0430\\u0441\\u0442\\u0435\\u0440\\u043e\\u0432\"}},\"yaxis\":{\"title\":{\"text\":\"\\u0418\\u043d\\u0442\\u0435\\u0440\\u043a\\u043b\\u0430\\u0441\\u0442\\u0435\\u0440\\u043d\\u043e\\u0435 \\u0440\\u0430\\u0441\\u0441\\u0442\\u043e\\u044f\\u043d\\u0438\\u0435\"}},\"title\":{\"text\":\"\\u0417\\u0430\\u0432\\u0438\\u0441\\u0438\\u043c\\u043e\\u0441\\u0442\\u044c \\u0438\\u043d\\u0442\\u0435\\u0440\\u043a\\u043b\\u0430\\u0441\\u0442\\u0435\\u0440\\u043d\\u043e\\u0433\\u043e \\u0440\\u0430\\u0441\\u0441\\u0442\\u043e\\u044f\\u043d\\u0438\\u044f \\u043e\\u0442 \\u0447\\u0438\\u0441\\u043b\\u0430 \\u043a\\u043b\\u0430\\u0441\\u0442\\u0435\\u0440\\u043e\\u0432\"}},                        {\"responsive\": true}                    ).then(function(){\n",
              "                            \n",
              "var gd = document.getElementById('aa2fc4c4-9bd0-4061-a1e5-51389406e879');\n",
              "var x = new MutationObserver(function (mutations, observer) {{\n",
              "        var display = window.getComputedStyle(gd).display;\n",
              "        if (!display || display === 'none') {{\n",
              "            console.log([gd, 'removed!']);\n",
              "            Plotly.purge(gd);\n",
              "            observer.disconnect();\n",
              "        }}\n",
              "}});\n",
              "\n",
              "// Listen for the removal of the full notebook cells\n",
              "var notebookContainer = gd.closest('#notebook-container');\n",
              "if (notebookContainer) {{\n",
              "    x.observe(notebookContainer, {childList: true});\n",
              "}}\n",
              "\n",
              "// Listen for the clearing of the current output cell\n",
              "var outputEl = gd.closest('.output');\n",
              "if (outputEl) {{\n",
              "    x.observe(outputEl, {childList: true});\n",
              "}}\n",
              "\n",
              "                        })                };                            </script>        </div>\n",
              "</body>\n",
              "</html>"
            ]
          },
          "metadata": {}
        }
      ]
    },
    {
      "cell_type": "markdown",
      "source": [
        "5. СРАВНЕНИЕ АЛГОРИТМОВ K-MEANS И ИЕРАРХИЧЕСКОЙ КЛАСТЕРИЗАЦИИ"
      ],
      "metadata": {
        "id": "PNefLFDhB-zh"
      }
    },
    {
      "cell_type": "code",
      "source": [
        "X = kmean_labels\n",
        "y = y_train\n",
        "\n",
        "kmeans_data = {\n",
        "  \"Adjusted Rand Index\": adjusted_rand_score(X, y),\n",
        "  \"Normalized Mutual Information\": normalized_mutual_info_score(X, y)\n",
        "}\n",
        "\n",
        "df = pd.DataFrame(kmeans_data, index=['Значение'])\n",
        "df"
      ],
      "metadata": {
        "colab": {
          "base_uri": "https://localhost:8080/",
          "height": 81
        },
        "id": "-CciI-YK-2Cm",
        "outputId": "571ac6c1-8821-4fc4-f34f-0ede4a59d791"
      },
      "execution_count": 96,
      "outputs": [
        {
          "output_type": "execute_result",
          "data": {
            "text/plain": [
              "          Adjusted Rand Index  Normalized Mutual Information\n",
              "Значение              0.32771                       0.478174"
            ],
            "text/html": [
              "\n",
              "  <div id=\"df-6e94fe2d-f3e7-49b3-8faf-1e00b7be099b\">\n",
              "    <div class=\"colab-df-container\">\n",
              "      <div>\n",
              "<style scoped>\n",
              "    .dataframe tbody tr th:only-of-type {\n",
              "        vertical-align: middle;\n",
              "    }\n",
              "\n",
              "    .dataframe tbody tr th {\n",
              "        vertical-align: top;\n",
              "    }\n",
              "\n",
              "    .dataframe thead th {\n",
              "        text-align: right;\n",
              "    }\n",
              "</style>\n",
              "<table border=\"1\" class=\"dataframe\">\n",
              "  <thead>\n",
              "    <tr style=\"text-align: right;\">\n",
              "      <th></th>\n",
              "      <th>Adjusted Rand Index</th>\n",
              "      <th>Normalized Mutual Information</th>\n",
              "    </tr>\n",
              "  </thead>\n",
              "  <tbody>\n",
              "    <tr>\n",
              "      <th>Значение</th>\n",
              "      <td>0.32771</td>\n",
              "      <td>0.478174</td>\n",
              "    </tr>\n",
              "  </tbody>\n",
              "</table>\n",
              "</div>\n",
              "      <button class=\"colab-df-convert\" onclick=\"convertToInteractive('df-6e94fe2d-f3e7-49b3-8faf-1e00b7be099b')\"\n",
              "              title=\"Convert this dataframe to an interactive table.\"\n",
              "              style=\"display:none;\">\n",
              "        \n",
              "  <svg xmlns=\"http://www.w3.org/2000/svg\" height=\"24px\"viewBox=\"0 0 24 24\"\n",
              "       width=\"24px\">\n",
              "    <path d=\"M0 0h24v24H0V0z\" fill=\"none\"/>\n",
              "    <path d=\"M18.56 5.44l.94 2.06.94-2.06 2.06-.94-2.06-.94-.94-2.06-.94 2.06-2.06.94zm-11 1L8.5 8.5l.94-2.06 2.06-.94-2.06-.94L8.5 2.5l-.94 2.06-2.06.94zm10 10l.94 2.06.94-2.06 2.06-.94-2.06-.94-.94-2.06-.94 2.06-2.06.94z\"/><path d=\"M17.41 7.96l-1.37-1.37c-.4-.4-.92-.59-1.43-.59-.52 0-1.04.2-1.43.59L10.3 9.45l-7.72 7.72c-.78.78-.78 2.05 0 2.83L4 21.41c.39.39.9.59 1.41.59.51 0 1.02-.2 1.41-.59l7.78-7.78 2.81-2.81c.8-.78.8-2.07 0-2.86zM5.41 20L4 18.59l7.72-7.72 1.47 1.35L5.41 20z\"/>\n",
              "  </svg>\n",
              "      </button>\n",
              "      \n",
              "  <style>\n",
              "    .colab-df-container {\n",
              "      display:flex;\n",
              "      flex-wrap:wrap;\n",
              "      gap: 12px;\n",
              "    }\n",
              "\n",
              "    .colab-df-convert {\n",
              "      background-color: #E8F0FE;\n",
              "      border: none;\n",
              "      border-radius: 50%;\n",
              "      cursor: pointer;\n",
              "      display: none;\n",
              "      fill: #1967D2;\n",
              "      height: 32px;\n",
              "      padding: 0 0 0 0;\n",
              "      width: 32px;\n",
              "    }\n",
              "\n",
              "    .colab-df-convert:hover {\n",
              "      background-color: #E2EBFA;\n",
              "      box-shadow: 0px 1px 2px rgba(60, 64, 67, 0.3), 0px 1px 3px 1px rgba(60, 64, 67, 0.15);\n",
              "      fill: #174EA6;\n",
              "    }\n",
              "\n",
              "    [theme=dark] .colab-df-convert {\n",
              "      background-color: #3B4455;\n",
              "      fill: #D2E3FC;\n",
              "    }\n",
              "\n",
              "    [theme=dark] .colab-df-convert:hover {\n",
              "      background-color: #434B5C;\n",
              "      box-shadow: 0px 1px 3px 1px rgba(0, 0, 0, 0.15);\n",
              "      filter: drop-shadow(0px 1px 2px rgba(0, 0, 0, 0.3));\n",
              "      fill: #FFFFFF;\n",
              "    }\n",
              "  </style>\n",
              "\n",
              "      <script>\n",
              "        const buttonEl =\n",
              "          document.querySelector('#df-6e94fe2d-f3e7-49b3-8faf-1e00b7be099b button.colab-df-convert');\n",
              "        buttonEl.style.display =\n",
              "          google.colab.kernel.accessAllowed ? 'block' : 'none';\n",
              "\n",
              "        async function convertToInteractive(key) {\n",
              "          const element = document.querySelector('#df-6e94fe2d-f3e7-49b3-8faf-1e00b7be099b');\n",
              "          const dataTable =\n",
              "            await google.colab.kernel.invokeFunction('convertToInteractive',\n",
              "                                                     [key], {});\n",
              "          if (!dataTable) return;\n",
              "\n",
              "          const docLinkHtml = 'Like what you see? Visit the ' +\n",
              "            '<a target=\"_blank\" href=https://colab.research.google.com/notebooks/data_table.ipynb>data table notebook</a>'\n",
              "            + ' to learn more about interactive tables.';\n",
              "          element.innerHTML = '';\n",
              "          dataTable['output_type'] = 'display_data';\n",
              "          await google.colab.output.renderOutput(dataTable, element);\n",
              "          const docLink = document.createElement('div');\n",
              "          docLink.innerHTML = docLinkHtml;\n",
              "          element.appendChild(docLink);\n",
              "        }\n",
              "      </script>\n",
              "    </div>\n",
              "  </div>\n",
              "  "
            ]
          },
          "metadata": {},
          "execution_count": 96
        }
      ]
    },
    {
      "cell_type": "code",
      "source": [
        "X = hier_clust_labels\n",
        "y = y_train\n",
        "\n",
        "hier_data = {\n",
        "  \"Adjusted Rand Index\": adjusted_rand_score(X, y),\n",
        "  \"Normalized Mutual Information\": normalized_mutual_info_score(X, y)\n",
        "}\n",
        "\n",
        "df = pd.DataFrame(hier_data, index=['Значение'])\n",
        "df"
      ],
      "metadata": {
        "colab": {
          "base_uri": "https://localhost:8080/",
          "height": 81
        },
        "id": "jgDDV-bsOQ3j",
        "outputId": "aed23217-f074-488d-bc03-49ff244a0dd5"
      },
      "execution_count": 97,
      "outputs": [
        {
          "output_type": "execute_result",
          "data": {
            "text/plain": [
              "          Adjusted Rand Index  Normalized Mutual Information\n",
              "Значение             0.103315                       0.222243"
            ],
            "text/html": [
              "\n",
              "  <div id=\"df-ab140701-4662-4318-9dfa-6278b68fac8b\">\n",
              "    <div class=\"colab-df-container\">\n",
              "      <div>\n",
              "<style scoped>\n",
              "    .dataframe tbody tr th:only-of-type {\n",
              "        vertical-align: middle;\n",
              "    }\n",
              "\n",
              "    .dataframe tbody tr th {\n",
              "        vertical-align: top;\n",
              "    }\n",
              "\n",
              "    .dataframe thead th {\n",
              "        text-align: right;\n",
              "    }\n",
              "</style>\n",
              "<table border=\"1\" class=\"dataframe\">\n",
              "  <thead>\n",
              "    <tr style=\"text-align: right;\">\n",
              "      <th></th>\n",
              "      <th>Adjusted Rand Index</th>\n",
              "      <th>Normalized Mutual Information</th>\n",
              "    </tr>\n",
              "  </thead>\n",
              "  <tbody>\n",
              "    <tr>\n",
              "      <th>Значение</th>\n",
              "      <td>0.103315</td>\n",
              "      <td>0.222243</td>\n",
              "    </tr>\n",
              "  </tbody>\n",
              "</table>\n",
              "</div>\n",
              "      <button class=\"colab-df-convert\" onclick=\"convertToInteractive('df-ab140701-4662-4318-9dfa-6278b68fac8b')\"\n",
              "              title=\"Convert this dataframe to an interactive table.\"\n",
              "              style=\"display:none;\">\n",
              "        \n",
              "  <svg xmlns=\"http://www.w3.org/2000/svg\" height=\"24px\"viewBox=\"0 0 24 24\"\n",
              "       width=\"24px\">\n",
              "    <path d=\"M0 0h24v24H0V0z\" fill=\"none\"/>\n",
              "    <path d=\"M18.56 5.44l.94 2.06.94-2.06 2.06-.94-2.06-.94-.94-2.06-.94 2.06-2.06.94zm-11 1L8.5 8.5l.94-2.06 2.06-.94-2.06-.94L8.5 2.5l-.94 2.06-2.06.94zm10 10l.94 2.06.94-2.06 2.06-.94-2.06-.94-.94-2.06-.94 2.06-2.06.94z\"/><path d=\"M17.41 7.96l-1.37-1.37c-.4-.4-.92-.59-1.43-.59-.52 0-1.04.2-1.43.59L10.3 9.45l-7.72 7.72c-.78.78-.78 2.05 0 2.83L4 21.41c.39.39.9.59 1.41.59.51 0 1.02-.2 1.41-.59l7.78-7.78 2.81-2.81c.8-.78.8-2.07 0-2.86zM5.41 20L4 18.59l7.72-7.72 1.47 1.35L5.41 20z\"/>\n",
              "  </svg>\n",
              "      </button>\n",
              "      \n",
              "  <style>\n",
              "    .colab-df-container {\n",
              "      display:flex;\n",
              "      flex-wrap:wrap;\n",
              "      gap: 12px;\n",
              "    }\n",
              "\n",
              "    .colab-df-convert {\n",
              "      background-color: #E8F0FE;\n",
              "      border: none;\n",
              "      border-radius: 50%;\n",
              "      cursor: pointer;\n",
              "      display: none;\n",
              "      fill: #1967D2;\n",
              "      height: 32px;\n",
              "      padding: 0 0 0 0;\n",
              "      width: 32px;\n",
              "    }\n",
              "\n",
              "    .colab-df-convert:hover {\n",
              "      background-color: #E2EBFA;\n",
              "      box-shadow: 0px 1px 2px rgba(60, 64, 67, 0.3), 0px 1px 3px 1px rgba(60, 64, 67, 0.15);\n",
              "      fill: #174EA6;\n",
              "    }\n",
              "\n",
              "    [theme=dark] .colab-df-convert {\n",
              "      background-color: #3B4455;\n",
              "      fill: #D2E3FC;\n",
              "    }\n",
              "\n",
              "    [theme=dark] .colab-df-convert:hover {\n",
              "      background-color: #434B5C;\n",
              "      box-shadow: 0px 1px 3px 1px rgba(0, 0, 0, 0.15);\n",
              "      filter: drop-shadow(0px 1px 2px rgba(0, 0, 0, 0.3));\n",
              "      fill: #FFFFFF;\n",
              "    }\n",
              "  </style>\n",
              "\n",
              "      <script>\n",
              "        const buttonEl =\n",
              "          document.querySelector('#df-ab140701-4662-4318-9dfa-6278b68fac8b button.colab-df-convert');\n",
              "        buttonEl.style.display =\n",
              "          google.colab.kernel.accessAllowed ? 'block' : 'none';\n",
              "\n",
              "        async function convertToInteractive(key) {\n",
              "          const element = document.querySelector('#df-ab140701-4662-4318-9dfa-6278b68fac8b');\n",
              "          const dataTable =\n",
              "            await google.colab.kernel.invokeFunction('convertToInteractive',\n",
              "                                                     [key], {});\n",
              "          if (!dataTable) return;\n",
              "\n",
              "          const docLinkHtml = 'Like what you see? Visit the ' +\n",
              "            '<a target=\"_blank\" href=https://colab.research.google.com/notebooks/data_table.ipynb>data table notebook</a>'\n",
              "            + ' to learn more about interactive tables.';\n",
              "          element.innerHTML = '';\n",
              "          dataTable['output_type'] = 'display_data';\n",
              "          await google.colab.output.renderOutput(dataTable, element);\n",
              "          const docLink = document.createElement('div');\n",
              "          docLink.innerHTML = docLinkHtml;\n",
              "          element.appendChild(docLink);\n",
              "        }\n",
              "      </script>\n",
              "    </div>\n",
              "  </div>\n",
              "  "
            ]
          },
          "metadata": {},
          "execution_count": 97
        }
      ]
    }
  ]
}